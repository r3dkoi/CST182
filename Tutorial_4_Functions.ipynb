{
  "nbformat": 4,
  "nbformat_minor": 0,
  "metadata": {
    "colab": {
      "provenance": [],
      "toc_visible": true,
      "include_colab_link": true
    },
    "kernelspec": {
      "name": "python3",
      "display_name": "Python 3"
    },
    "language_info": {
      "name": "python"
    }
  },
  "cells": [
    {
      "cell_type": "markdown",
      "metadata": {
        "id": "view-in-github",
        "colab_type": "text"
      },
      "source": [
        "<a href=\"https://colab.research.google.com/github/r3dkoi/CST182/blob/main/Tutorial_4_Functions.ipynb\" target=\"_parent\"><img src=\"https://colab.research.google.com/assets/colab-badge.svg\" alt=\"Open In Colab\"/></a>"
      ]
    },
    {
      "cell_type": "markdown",
      "source": [
        "# **TUTORIAL #4 - FUNCTIONS**\n",
        "<br/>\n",
        "\n",
        "\n",
        "\n",
        "\n",
        "\n"
      ],
      "metadata": {
        "id": "h7roITOPgVZ6"
      }
    },
    {
      "cell_type": "markdown",
      "source": [
        "In this tutorial, we will be revise the main topics covered in functions.\n",
        "\n",
        "> **Note:** *For a comprehensive understanding please refer to the materials on the LMS*"
      ],
      "metadata": {
        "id": "FtmgExBEH-uC"
      }
    },
    {
      "cell_type": "markdown",
      "source": [
        "## **#1. Functions**\n",
        "---\n",
        "\n",
        "Functions allow us to create a block of code, provide it a name, and then run the code anytime we call the name of the function.\n",
        "\n"
      ],
      "metadata": {
        "id": "-GAXHau1oAMK"
      }
    },
    {
      "cell_type": "markdown",
      "source": [
        "### **Basic Function Calls**\n",
        "\n",
        "\n",
        "For example, if we wanted to create a function for drawing squares or triangles"
      ],
      "metadata": {
        "id": "qSCvRsOrqpIy"
      }
    },
    {
      "cell_type": "code",
      "source": [
        "def drawSquare():\n",
        "  print(\"*****\")\n",
        "  print(\"*   *\")\n",
        "  print(\"*****\")\n",
        "\n",
        "def drawTriangle():\n",
        "  print(\"  *  \")\n",
        "  print(\" * *\")\n",
        "  print(\"*****\")\n",
        "\n",
        "\n",
        "drawTriangle()\n",
        "drawSquare()\n",
        "drawSquare()\n",
        "drawTriangle()"
      ],
      "metadata": {
        "colab": {
          "base_uri": "https://localhost:8080/"
        },
        "id": "DgwXIM5EplUY",
        "outputId": "2c183038-1570-4cf4-ab28-f585a4ec56f1"
      },
      "execution_count": null,
      "outputs": [
        {
          "output_type": "stream",
          "name": "stdout",
          "text": [
            "  *  \n",
            " * *\n",
            "*****\n",
            "*****\n",
            "*   *\n",
            "*****\n",
            "*****\n",
            "*   *\n",
            "*****\n",
            "  *  \n",
            " * *\n",
            "*****\n"
          ]
        }
      ]
    },
    {
      "cell_type": "markdown",
      "source": [
        "### **Adding Parameters**\n",
        "\n",
        "\n",
        "We can pass data to our functions via parameters.\n",
        "\n",
        "\n",
        "Take for example the following program that takes two numbers to multiply together"
      ],
      "metadata": {
        "id": "7jnhEyD3qtaa"
      }
    },
    {
      "cell_type": "code",
      "source": [
        "def mult_nums(n1, n2):\n",
        "  ans = n1 * n2\n",
        "  print(\"Answer = \", ans)\n",
        "\n",
        "\n",
        "number1 = 5\n",
        "number2 = 10\n",
        "\n",
        "mult_nums(3,4)\n",
        "mult_nums(number1,4)\n",
        "mult_nums(3,number2)\n",
        "mult_nums(number1,number2)\n"
      ],
      "metadata": {
        "colab": {
          "base_uri": "https://localhost:8080/"
        },
        "id": "oSZc39Trqyf-",
        "outputId": "20651ecb-33e9-46ec-cea9-d2ee78f45c84"
      },
      "execution_count": null,
      "outputs": [
        {
          "output_type": "stream",
          "name": "stdout",
          "text": [
            "Answer =  12\n",
            "Answer =  20\n",
            "Answer =  30\n",
            "Answer =  50\n"
          ]
        }
      ]
    },
    {
      "cell_type": "markdown",
      "source": [
        "### **Adding a Return Value**\n",
        "\n",
        "\n",
        "We can return values back to where the function was called via the `return` keyword\n",
        "\n",
        "\n",
        "Take for example the previous program - in this updated version we will return the value and print it in the main section of the program (rather than within the function)\n",
        "\n",
        "\n",
        "<br/>"
      ],
      "metadata": {
        "id": "SjZTP-Hqofmg"
      }
    },
    {
      "cell_type": "code",
      "source": [
        "def mult_nums(n1, n2):\n",
        "  ans = n1 * n2\n",
        "  return ans\n",
        "\n",
        "number1 = 5\n",
        "number2 = 10\n",
        "\n",
        "print(mult_nums(3,4))\n",
        "print(mult_nums(number1,4))\n",
        "print(mult_nums(3,number2))\n",
        "print(mult_nums(number1,number2))"
      ],
      "metadata": {
        "colab": {
          "base_uri": "https://localhost:8080/"
        },
        "id": "TOLHDLH1IFtv",
        "outputId": "1d1cde04-a405-4234-e01f-72962b66ae6a"
      },
      "execution_count": null,
      "outputs": [
        {
          "output_type": "stream",
          "name": "stdout",
          "text": [
            "12\n",
            "20\n",
            "30\n",
            "50\n"
          ]
        }
      ]
    },
    {
      "cell_type": "markdown",
      "source": [
        "<br/>"
      ],
      "metadata": {
        "id": "7sFjHRkrptRJ"
      }
    },
    {
      "cell_type": "markdown",
      "source": [
        "\n",
        "##  **#2.Your Turn**\n",
        "---"
      ],
      "metadata": {
        "id": "LTfa8ImBtsha"
      }
    },
    {
      "cell_type": "markdown",
      "source": [
        "### **Program #1 |** Learning Functions Parameters with Franklin\n",
        "---\n",
        "\n",
        "\n",
        "In this program we will simply use Franklin to make some function calls with changing parameters.\n",
        "<br/><br/>\n",
        "\n",
        ">**Note:** *Using the Turtle package is a little slow in Google Colab - so feel free to use either the installed Python distribution on your computer or another web app like trinket.io/python*\n",
        "\n",
        "\n",
        "<br/><br/>\n",
        "\n",
        "#### **Note:** Installing Packages\n",
        "---\n",
        "Later in the course we will look at packages in more detail, but for now it is enough to know the basics:\n",
        "\n",
        "\n",
        "*   Packages extend functionality\n",
        "*   You only need to install packages once\n",
        "*   We use the command !pip to install our packages in Colab\n",
        "\n",
        "Therefore, run the code in the next code window and see how a package is installed into the notebook<br>\n",
        "\n",
        "\n"
      ],
      "metadata": {
        "id": "2uifW04Is2EE"
      }
    },
    {
      "cell_type": "code",
      "source": [
        "!pip3 install ColabTurtlePlus"
      ],
      "metadata": {
        "colab": {
          "base_uri": "https://localhost:8080/"
        },
        "id": "pbSaU8FV0vB7",
        "outputId": "cd60117d-12e6-4c4e-f541-cc6347a565b0"
      },
      "execution_count": null,
      "outputs": [
        {
          "output_type": "stream",
          "name": "stdout",
          "text": [
            "Collecting ColabTurtlePlus\n",
            "  Downloading ColabTurtlePlus-2.0.1-py3-none-any.whl (31 kB)\n",
            "Installing collected packages: ColabTurtlePlus\n",
            "Successfully installed ColabTurtlePlus-2.0.1\n"
          ]
        }
      ]
    },
    {
      "cell_type": "markdown",
      "source": [
        "<br/>\n",
        "\n",
        "\n"
      ],
      "metadata": {
        "id": "iFiLJQ0LMxo6"
      }
    },
    {
      "cell_type": "code",
      "source": [
        "# Student Name:   MYNAME\n",
        "# Student Number: MYSTUDENTNUMBER\n",
        "\n",
        "\n",
        "import ColabTurtlePlus.Turtle as t\n",
        "import random\n",
        "\n",
        "# SETUP\n",
        "t.initializeTurtle()\n",
        "t.setup(400,400)    # The size of the window (x [width], y [height])\n",
        "\n",
        "t.speed(13)          # The speed of Franklin the Turtle\n",
        "\n",
        "t.bgcolor(\"white\")  # Change the background colour of the page\n",
        "t.color(\"blue\")     # Change the colour of the pen\n",
        "t.width(3)          # Change the width of the pen\n",
        "\n",
        "\n",
        "# [1] Loop for the number of lines to draw\n",
        "for x in range(300):\n",
        "\n",
        "    #[2] The colour to use (currently uses the loop index to modify over time)\n",
        "    cols1 = \"rgb(\"+ str(max(0,255-x)) + \",\" +str(max(0,255-x//2)) + \",\" + str(max(0,255-x//3))+ \")\"\n",
        "    t.pencolor(cols1)\n",
        "\n",
        "    t.forward(x*1)\n",
        "    t.left(120.1)\n"
      ],
      "metadata": {
        "id": "6_CTo-8Rjbu3",
        "colab": {
          "base_uri": "https://localhost:8080/",
          "height": 421
        },
        "outputId": "ab251db4-b9fc-4947-840b-88663db52e0c"
      },
      "execution_count": null,
      "outputs": [
        {
          "output_type": "display_data",
          "data": {
            "text/plain": [
              "<IPython.core.display.HTML object>"
            ],
            "text/html": [
              "\n",
              "      <svg width=\"400\" height=\"400\">  \n",
              "        <rect width=\"100%\" height=\"100%\" style=\"fill:white;stroke:;stroke-width:1\"/>\n",
              "        \n",
              "        \n",
              "        <line x1=\"200.0\" y1=\"200.0\" x2=\"200.0\" y2=\"200.0\" stroke-linecap=\"round\" style=\"stroke:rgb(255,255,255);stroke-width:3\" /><line x1=\"200.0\" y1=\"200.0\" x2=\"199.498\" y2=\"199.135\" stroke-linecap=\"round\" style=\"stroke:rgb(254,255,255);stroke-width:3\" /><line x1=\"199.498\" y1=\"199.135\" x2=\"198.504\" y2=\"200.871\" stroke-linecap=\"round\" style=\"stroke:rgb(253,254,255);stroke-width:3\" /><line x1=\"198.504\" y1=\"200.871\" x2=\"201.504\" y2=\"200.855\" stroke-linecap=\"round\" style=\"stroke:rgb(252,254,254);stroke-width:3\" /><line x1=\"201.504\" y1=\"200.855\" x2=\"199.48\" y2=\"197.405\" stroke-linecap=\"round\" style=\"stroke:rgb(251,253,254);stroke-width:3\" /><line x1=\"199.48\" y1=\"197.405\" x2=\"197.018\" y2=\"201.757\" stroke-linecap=\"round\" style=\"stroke:rgb(250,253,254);stroke-width:3\" /><line x1=\"197.018\" y1=\"201.757\" x2=\"203.018\" y2=\"201.694\" stroke-linecap=\"round\" style=\"stroke:rgb(249,252,253);stroke-width:3\" /><line x1=\"203.018\" y1=\"201.694\" x2=\"199.444\" y2=\"195.675\" stroke-linecap=\"round\" style=\"stroke:rgb(248,252,253);stroke-width:3\" /><line x1=\"199.444\" y1=\"195.675\" x2=\"195.541\" y2=\"202.658\" stroke-linecap=\"round\" style=\"stroke:rgb(247,251,253);stroke-width:3\" /><line x1=\"195.541\" y1=\"202.658\" x2=\"204.54\" y2=\"202.517\" stroke-linecap=\"round\" style=\"stroke:rgb(246,251,252);stroke-width:3\" /><line x1=\"204.54\" y1=\"202.517\" x2=\"199.39\" y2=\"193.945\" stroke-linecap=\"round\" style=\"stroke:rgb(245,250,252);stroke-width:3\" /><line x1=\"199.39\" y1=\"193.945\" x2=\"194.074\" y2=\"203.575\" stroke-linecap=\"round\" style=\"stroke:rgb(244,250,252);stroke-width:3\" /><line x1=\"194.074\" y1=\"203.575\" x2=\"206.071\" y2=\"203.324\" stroke-linecap=\"round\" style=\"stroke:rgb(243,249,251);stroke-width:3\" /><line x1=\"206.071\" y1=\"203.324\" x2=\"199.317\" y2=\"192.216\" stroke-linecap=\"round\" style=\"stroke:rgb(242,249,251);stroke-width:3\" /><line x1=\"199.317\" y1=\"192.216\" x2=\"192.615\" y2=\"204.508\" stroke-linecap=\"round\" style=\"stroke:rgb(241,248,251);stroke-width:3\" /><line x1=\"192.615\" y1=\"204.508\" x2=\"207.61\" y2=\"204.115\" stroke-linecap=\"round\" style=\"stroke:rgb(240,248,250);stroke-width:3\" /><line x1=\"207.61\" y1=\"204.115\" x2=\"199.226\" y2=\"190.487\" stroke-linecap=\"round\" style=\"stroke:rgb(239,247,250);stroke-width:3\" /><line x1=\"199.226\" y1=\"190.487\" x2=\"191.167\" y2=\"205.455\" stroke-linecap=\"round\" style=\"stroke:rgb(238,247,250);stroke-width:3\" /><line x1=\"191.167\" y1=\"205.455\" x2=\"209.158\" y2=\"204.89\" stroke-linecap=\"round\" style=\"stroke:rgb(237,246,249);stroke-width:3\" /><line x1=\"209.158\" y1=\"204.89\" x2=\"199.118\" y2=\"188.76\" stroke-linecap=\"round\" style=\"stroke:rgb(236,246,249);stroke-width:3\" /><line x1=\"199.118\" y1=\"188.76\" x2=\"189.729\" y2=\"206.419\" stroke-linecap=\"round\" style=\"stroke:rgb(235,245,249);stroke-width:3\" /><line x1=\"189.729\" y1=\"206.419\" x2=\"210.715\" y2=\"205.649\" stroke-linecap=\"round\" style=\"stroke:rgb(234,245,248);stroke-width:3\" /><line x1=\"210.715\" y1=\"205.649\" x2=\"198.992\" y2=\"187.033\" stroke-linecap=\"round\" style=\"stroke:rgb(233,244,248);stroke-width:3\" /><line x1=\"198.992\" y1=\"187.033\" x2=\"188.301\" y2=\"207.397\" stroke-linecap=\"round\" style=\"stroke:rgb(232,244,248);stroke-width:3\" /><line x1=\"188.301\" y1=\"207.397\" x2=\"212.28\" y2=\"206.392\" stroke-linecap=\"round\" style=\"stroke:rgb(231,243,247);stroke-width:3\" /><line x1=\"212.28\" y1=\"206.392\" x2=\"198.848\" y2=\"185.307\" stroke-linecap=\"round\" style=\"stroke:rgb(230,243,247);stroke-width:3\" /><line x1=\"198.848\" y1=\"185.307\" x2=\"186.883\" y2=\"208.39\" stroke-linecap=\"round\" style=\"stroke:rgb(229,242,247);stroke-width:3\" /><line x1=\"186.883\" y1=\"208.39\" x2=\"213.853\" y2=\"207.118\" stroke-linecap=\"round\" style=\"stroke:rgb(228,242,246);stroke-width:3\" /><line x1=\"213.853\" y1=\"207.118\" x2=\"198.685\" y2=\"183.582\" stroke-linecap=\"round\" style=\"stroke:rgb(227,241,246);stroke-width:3\" /><line x1=\"198.685\" y1=\"183.582\" x2=\"185.474\" y2=\"209.398\" stroke-linecap=\"round\" style=\"stroke:rgb(226,241,246);stroke-width:3\" /><line x1=\"185.474\" y1=\"209.398\" x2=\"215.433\" y2=\"207.828\" stroke-linecap=\"round\" style=\"stroke:rgb(225,240,245);stroke-width:3\" /><line x1=\"215.433\" y1=\"207.828\" x2=\"198.504\" y2=\"181.859\" stroke-linecap=\"round\" style=\"stroke:rgb(224,240,245);stroke-width:3\" /><line x1=\"198.504\" y1=\"181.859\" x2=\"184.076\" y2=\"210.422\" stroke-linecap=\"round\" style=\"stroke:rgb(223,239,245);stroke-width:3\" /><line x1=\"184.076\" y1=\"210.422\" x2=\"217.021\" y2=\"208.522\" stroke-linecap=\"round\" style=\"stroke:rgb(222,239,244);stroke-width:3\" /><line x1=\"217.021\" y1=\"208.522\" x2=\"198.305\" y2=\"180.137\" stroke-linecap=\"round\" style=\"stroke:rgb(221,238,244);stroke-width:3\" /><line x1=\"198.305\" y1=\"180.137\" x2=\"182.688\" y2=\"211.46\" stroke-linecap=\"round\" style=\"stroke:rgb(220,238,244);stroke-width:3\" /><line x1=\"182.688\" y1=\"211.46\" x2=\"218.617\" y2=\"209.2\" stroke-linecap=\"round\" style=\"stroke:rgb(219,237,243);stroke-width:3\" /><line x1=\"218.617\" y1=\"209.2\" x2=\"198.088\" y2=\"178.418\" stroke-linecap=\"round\" style=\"stroke:rgb(218,237,243);stroke-width:3\" /><line x1=\"198.088\" y1=\"178.418\" x2=\"181.311\" y2=\"212.514\" stroke-linecap=\"round\" style=\"stroke:rgb(217,236,243);stroke-width:3\" /><line x1=\"181.311\" y1=\"212.514\" x2=\"220.221\" y2=\"209.861\" stroke-linecap=\"round\" style=\"stroke:rgb(216,236,242);stroke-width:3\" /><line x1=\"220.221\" y1=\"209.861\" x2=\"197.853\" y2=\"176.699\" stroke-linecap=\"round\" style=\"stroke:rgb(215,235,242);stroke-width:3\" /><line x1=\"197.853\" y1=\"176.699\" x2=\"179.944\" y2=\"213.581\" stroke-linecap=\"round\" style=\"stroke:rgb(214,235,242);stroke-width:3\" /><line x1=\"179.944\" y1=\"213.581\" x2=\"221.831\" y2=\"210.505\" stroke-linecap=\"round\" style=\"stroke:rgb(213,234,241);stroke-width:3\" /><line x1=\"221.831\" y1=\"210.505\" x2=\"197.599\" y2=\"174.983\" stroke-linecap=\"round\" style=\"stroke:rgb(212,234,241);stroke-width:3\" /><line x1=\"197.599\" y1=\"174.983\" x2=\"178.587\" y2=\"214.664\" stroke-linecap=\"round\" style=\"stroke:rgb(211,233,241);stroke-width:3\" /><line x1=\"178.587\" y1=\"214.664\" x2=\"223.448\" y2=\"211.133\" stroke-linecap=\"round\" style=\"stroke:rgb(210,233,240);stroke-width:3\" /><line x1=\"223.448\" y1=\"211.133\" x2=\"197.327\" y2=\"173.269\" stroke-linecap=\"round\" style=\"stroke:rgb(209,232,240);stroke-width:3\" /><line x1=\"197.327\" y1=\"173.269\" x2=\"177.241\" y2=\"215.761\" stroke-linecap=\"round\" style=\"stroke:rgb(208,232,240);stroke-width:3\" /><line x1=\"177.241\" y1=\"215.761\" x2=\"225.073\" y2=\"211.744\" stroke-linecap=\"round\" style=\"stroke:rgb(207,231,239);stroke-width:3\" /><line x1=\"225.073\" y1=\"211.744\" x2=\"197.038\" y2=\"171.557\" stroke-linecap=\"round\" style=\"stroke:rgb(206,231,239);stroke-width:3\" /><line x1=\"197.038\" y1=\"171.557\" x2=\"175.907\" y2=\"216.872\" stroke-linecap=\"round\" style=\"stroke:rgb(205,230,239);stroke-width:3\" /><line x1=\"175.907\" y1=\"216.872\" x2=\"226.705\" y2=\"212.338\" stroke-linecap=\"round\" style=\"stroke:rgb(204,230,238);stroke-width:3\" /><line x1=\"226.705\" y1=\"212.338\" x2=\"196.731\" y2=\"169.846\" stroke-linecap=\"round\" style=\"stroke:rgb(203,229,238);stroke-width:3\" /><line x1=\"196.731\" y1=\"169.846\" x2=\"174.584\" y2=\"217.997\" stroke-linecap=\"round\" style=\"stroke:rgb(202,229,238);stroke-width:3\" /><line x1=\"174.584\" y1=\"217.997\" x2=\"228.344\" y2=\"212.915\" stroke-linecap=\"round\" style=\"stroke:rgb(201,228,237);stroke-width:3\" /><line x1=\"228.344\" y1=\"212.915\" x2=\"196.405\" y2=\"168.139\" stroke-linecap=\"round\" style=\"stroke:rgb(200,228,237);stroke-width:3\" /><line x1=\"196.405\" y1=\"168.139\" x2=\"173.271\" y2=\"219.137\" stroke-linecap=\"round\" style=\"stroke:rgb(199,227,237);stroke-width:3\" /><line x1=\"173.271\" y1=\"219.137\" x2=\"229.989\" y2=\"213.476\" stroke-linecap=\"round\" style=\"stroke:rgb(198,227,236);stroke-width:3\" /><line x1=\"229.989\" y1=\"213.476\" x2=\"196.061\" y2=\"166.434\" stroke-linecap=\"round\" style=\"stroke:rgb(197,226,236);stroke-width:3\" /><line x1=\"196.061\" y1=\"166.434\" x2=\"171.97\" y2=\"220.291\" stroke-linecap=\"round\" style=\"stroke:rgb(196,226,236);stroke-width:3\" /><line x1=\"171.97\" y1=\"220.291\" x2=\"231.641\" y2=\"214.019\" stroke-linecap=\"round\" style=\"stroke:rgb(195,225,235);stroke-width:3\" /><line x1=\"231.641\" y1=\"214.019\" x2=\"195.7\" y2=\"164.732\" stroke-linecap=\"round\" style=\"stroke:rgb(194,225,235);stroke-width:3\" /><line x1=\"195.7\" y1=\"164.732\" x2=\"170.68\" y2=\"221.459\" stroke-linecap=\"round\" style=\"stroke:rgb(193,224,235);stroke-width:3\" /><line x1=\"170.68\" y1=\"221.459\" x2=\"233.3\" y2=\"214.546\" stroke-linecap=\"round\" style=\"stroke:rgb(192,224,234);stroke-width:3\" /><line x1=\"233.3\" y1=\"214.546\" x2=\"195.321\" y2=\"163.033\" stroke-linecap=\"round\" style=\"stroke:rgb(191,223,234);stroke-width:3\" /><line x1=\"195.321\" y1=\"163.033\" x2=\"169.402\" y2=\"222.642\" stroke-linecap=\"round\" style=\"stroke:rgb(190,223,234);stroke-width:3\" /><line x1=\"169.402\" y1=\"222.642\" x2=\"234.965\" y2=\"215.056\" stroke-linecap=\"round\" style=\"stroke:rgb(189,222,233);stroke-width:3\" /><line x1=\"234.965\" y1=\"215.056\" x2=\"194.924\" y2=\"161.337\" stroke-linecap=\"round\" style=\"stroke:rgb(188,222,233);stroke-width:3\" /><line x1=\"194.924\" y1=\"161.337\" x2=\"168.136\" y2=\"223.838\" stroke-linecap=\"round\" style=\"stroke:rgb(187,221,233);stroke-width:3\" /><line x1=\"168.136\" y1=\"223.838\" x2=\"236.636\" y2=\"215.549\" stroke-linecap=\"round\" style=\"stroke:rgb(186,221,232);stroke-width:3\" /><line x1=\"236.636\" y1=\"215.549\" x2=\"194.509\" y2=\"159.645\" stroke-linecap=\"round\" style=\"stroke:rgb(185,220,232);stroke-width:3\" /><line x1=\"194.509\" y1=\"159.645\" x2=\"166.881\" y2=\"225.049\" stroke-linecap=\"round\" style=\"stroke:rgb(184,220,232);stroke-width:3\" /><line x1=\"166.881\" y1=\"225.049\" x2=\"238.313\" y2=\"216.025\" stroke-linecap=\"round\" style=\"stroke:rgb(183,219,231);stroke-width:3\" /><line x1=\"238.313\" y1=\"216.025\" x2=\"194.076\" y2=\"157.955\" stroke-linecap=\"round\" style=\"stroke:rgb(182,219,231);stroke-width:3\" /><line x1=\"194.076\" y1=\"157.955\" x2=\"165.638\" y2=\"226.273\" stroke-linecap=\"round\" style=\"stroke:rgb(181,218,231);stroke-width:3\" /><line x1=\"165.638\" y1=\"226.273\" x2=\"239.996\" y2=\"216.484\" stroke-linecap=\"round\" style=\"stroke:rgb(180,218,230);stroke-width:3\" /><line x1=\"239.996\" y1=\"216.484\" x2=\"193.625\" y2=\"156.27\" stroke-linecap=\"round\" style=\"stroke:rgb(179,217,230);stroke-width:3\" /><line x1=\"193.625\" y1=\"156.27\" x2=\"164.407\" y2=\"227.511\" stroke-linecap=\"round\" style=\"stroke:rgb(178,217,230);stroke-width:3\" /><line x1=\"164.407\" y1=\"227.511\" x2=\"241.685\" y2=\"216.925\" stroke-linecap=\"round\" style=\"stroke:rgb(177,216,229);stroke-width:3\" /><line x1=\"241.685\" y1=\"216.925\" x2=\"193.156\" y2=\"154.587\" stroke-linecap=\"round\" style=\"stroke:rgb(176,216,229);stroke-width:3\" /><line x1=\"193.156\" y1=\"154.587\" x2=\"163.187\" y2=\"228.762\" stroke-linecap=\"round\" style=\"stroke:rgb(175,215,229);stroke-width:3\" /><line x1=\"163.187\" y1=\"228.762\" x2=\"243.379\" y2=\"217.349\" stroke-linecap=\"round\" style=\"stroke:rgb(174,215,228);stroke-width:3\" /><line x1=\"243.379\" y1=\"217.349\" x2=\"192.67\" y2=\"152.909\" stroke-linecap=\"round\" style=\"stroke:rgb(173,214,228);stroke-width:3\" /><line x1=\"192.67\" y1=\"152.909\" x2=\"161.981\" y2=\"230.027\" stroke-linecap=\"round\" style=\"stroke:rgb(172,214,228);stroke-width:3\" /><line x1=\"161.981\" y1=\"230.027\" x2=\"245.08\" y2=\"217.756\" stroke-linecap=\"round\" style=\"stroke:rgb(171,213,227);stroke-width:3\" /><line x1=\"245.08\" y1=\"217.756\" x2=\"192.166\" y2=\"151.234\" stroke-linecap=\"round\" style=\"stroke:rgb(170,213,227);stroke-width:3\" /><line x1=\"192.166\" y1=\"151.234\" x2=\"160.787\" y2=\"231.305\" stroke-linecap=\"round\" style=\"stroke:rgb(169,212,227);stroke-width:3\" /><line x1=\"160.787\" y1=\"231.305\" x2=\"246.786\" y2=\"218.145\" stroke-linecap=\"round\" style=\"stroke:rgb(168,212,226);stroke-width:3\" /><line x1=\"246.786\" y1=\"218.145\" x2=\"191.645\" y2=\"149.563\" stroke-linecap=\"round\" style=\"stroke:rgb(167,211,226);stroke-width:3\" /><line x1=\"191.645\" y1=\"149.563\" x2=\"159.605\" y2=\"232.596\" stroke-linecap=\"round\" style=\"stroke:rgb(166,211,226);stroke-width:3\" /><line x1=\"159.605\" y1=\"232.596\" x2=\"248.497\" y2=\"218.517\" stroke-linecap=\"round\" style=\"stroke:rgb(165,210,225);stroke-width:3\" /><line x1=\"248.497\" y1=\"218.517\" x2=\"191.106\" y2=\"147.897\" stroke-linecap=\"round\" style=\"stroke:rgb(164,210,225);stroke-width:3\" /><line x1=\"191.106\" y1=\"147.897\" x2=\"158.436\" y2=\"233.901\" stroke-linecap=\"round\" style=\"stroke:rgb(163,209,225);stroke-width:3\" /><line x1=\"158.436\" y1=\"233.901\" x2=\"250.214\" y2=\"218.872\" stroke-linecap=\"round\" style=\"stroke:rgb(162,209,224);stroke-width:3\" /><line x1=\"250.214\" y1=\"218.872\" x2=\"190.549\" y2=\"146.235\" stroke-linecap=\"round\" style=\"stroke:rgb(161,208,224);stroke-width:3\" /><line x1=\"190.549\" y1=\"146.235\" x2=\"157.279\" y2=\"235.219\" stroke-linecap=\"round\" style=\"stroke:rgb(160,208,224);stroke-width:3\" /><line x1=\"157.279\" y1=\"235.219\" x2=\"251.935\" y2=\"219.209\" stroke-linecap=\"round\" style=\"stroke:rgb(159,207,223);stroke-width:3\" /><line x1=\"251.935\" y1=\"219.209\" x2=\"189.975\" y2=\"144.577\" stroke-linecap=\"round\" style=\"stroke:rgb(158,207,223);stroke-width:3\" /><line x1=\"189.975\" y1=\"144.577\" x2=\"156.136\" y2=\"236.549\" stroke-linecap=\"round\" style=\"stroke:rgb(157,206,223);stroke-width:3\" /><line x1=\"156.136\" y1=\"236.549\" x2=\"253.662\" y2=\"219.528\" stroke-linecap=\"round\" style=\"stroke:rgb(156,206,222);stroke-width:3\" /><line x1=\"253.662\" y1=\"219.528\" x2=\"189.383\" y2=\"142.924\" stroke-linecap=\"round\" style=\"stroke:rgb(155,205,222);stroke-width:3\" /><line x1=\"189.383\" y1=\"142.924\" x2=\"155.005\" y2=\"237.893\" stroke-linecap=\"round\" style=\"stroke:rgb(154,205,222);stroke-width:3\" /><line x1=\"155.005\" y1=\"237.893\" x2=\"255.393\" y2=\"219.83\" stroke-linecap=\"round\" style=\"stroke:rgb(153,204,221);stroke-width:3\" /><line x1=\"255.393\" y1=\"219.83\" x2=\"188.774\" y2=\"141.275\" stroke-linecap=\"round\" style=\"stroke:rgb(152,204,221);stroke-width:3\" /><line x1=\"188.774\" y1=\"141.275\" x2=\"153.887\" y2=\"239.249\" stroke-linecap=\"round\" style=\"stroke:rgb(151,203,221);stroke-width:3\" /><line x1=\"153.887\" y1=\"239.249\" x2=\"257.129\" y2=\"220.114\" stroke-linecap=\"round\" style=\"stroke:rgb(150,203,220);stroke-width:3\" /><line x1=\"257.129\" y1=\"220.114\" x2=\"188.147\" y2=\"139.631\" stroke-linecap=\"round\" style=\"stroke:rgb(149,202,220);stroke-width:3\" /><line x1=\"188.147\" y1=\"139.631\" x2=\"152.782\" y2=\"240.618\" stroke-linecap=\"round\" style=\"stroke:rgb(148,202,220);stroke-width:3\" /><line x1=\"152.782\" y1=\"240.618\" x2=\"258.869\" y2=\"220.381\" stroke-linecap=\"round\" style=\"stroke:rgb(147,201,219);stroke-width:3\" /><line x1=\"258.869\" y1=\"220.381\" x2=\"187.502\" y2=\"137.993\" stroke-linecap=\"round\" style=\"stroke:rgb(146,201,219);stroke-width:3\" /><line x1=\"187.502\" y1=\"137.993\" x2=\"151.69\" y2=\"242.0\" stroke-linecap=\"round\" style=\"stroke:rgb(145,200,219);stroke-width:3\" /><line x1=\"151.69\" y1=\"242.0\" x2=\"260.613\" y2=\"220.63\" stroke-linecap=\"round\" style=\"stroke:rgb(144,200,218);stroke-width:3\" /><line x1=\"260.613\" y1=\"220.63\" x2=\"186.84\" y2=\"136.36\" stroke-linecap=\"round\" style=\"stroke:rgb(143,199,218);stroke-width:3\" /><line x1=\"186.84\" y1=\"136.36\" x2=\"150.611\" y2=\"243.395\" stroke-linecap=\"round\" style=\"stroke:rgb(142,199,218);stroke-width:3\" /><line x1=\"150.611\" y1=\"243.395\" x2=\"262.362\" y2=\"220.862\" stroke-linecap=\"round\" style=\"stroke:rgb(141,198,217);stroke-width:3\" /><line x1=\"262.362\" y1=\"220.862\" x2=\"186.161\" y2=\"134.732\" stroke-linecap=\"round\" style=\"stroke:rgb(140,198,217);stroke-width:3\" /><line x1=\"186.161\" y1=\"134.732\" x2=\"149.546\" y2=\"244.802\" stroke-linecap=\"round\" style=\"stroke:rgb(139,197,217);stroke-width:3\" /><line x1=\"149.546\" y1=\"244.802\" x2=\"264.115\" y2=\"221.076\" stroke-linecap=\"round\" style=\"stroke:rgb(138,197,216);stroke-width:3\" /><line x1=\"264.115\" y1=\"221.076\" x2=\"185.464\" y2=\"133.11\" stroke-linecap=\"round\" style=\"stroke:rgb(137,196,216);stroke-width:3\" /><line x1=\"185.464\" y1=\"133.11\" x2=\"148.494\" y2=\"246.221\" stroke-linecap=\"round\" style=\"stroke:rgb(136,196,216);stroke-width:3\" /><line x1=\"148.494\" y1=\"246.221\" x2=\"265.872\" y2=\"221.272\" stroke-linecap=\"round\" style=\"stroke:rgb(135,195,215);stroke-width:3\" /><line x1=\"265.872\" y1=\"221.272\" x2=\"184.75\" y2=\"131.493\" stroke-linecap=\"round\" style=\"stroke:rgb(134,195,215);stroke-width:3\" /><line x1=\"184.75\" y1=\"131.493\" x2=\"147.455\" y2=\"247.653\" stroke-linecap=\"round\" style=\"stroke:rgb(133,194,215);stroke-width:3\" /><line x1=\"147.455\" y1=\"247.653\" x2=\"267.632\" y2=\"221.45\" stroke-linecap=\"round\" style=\"stroke:rgb(132,194,214);stroke-width:3\" /><line x1=\"267.632\" y1=\"221.45\" x2=\"184.019\" y2=\"129.882\" stroke-linecap=\"round\" style=\"stroke:rgb(131,193,214);stroke-width:3\" /><line x1=\"184.019\" y1=\"129.882\" x2=\"146.431\" y2=\"249.097\" stroke-linecap=\"round\" style=\"stroke:rgb(130,193,214);stroke-width:3\" /><line x1=\"146.431\" y1=\"249.097\" x2=\"269.397\" y2=\"221.611\" stroke-linecap=\"round\" style=\"stroke:rgb(129,192,213);stroke-width:3\" /><line x1=\"269.397\" y1=\"221.611\" x2=\"183.271\" y2=\"128.277\" stroke-linecap=\"round\" style=\"stroke:rgb(128,192,213);stroke-width:3\" /><line x1=\"183.271\" y1=\"128.277\" x2=\"145.42\" y2=\"250.553\" stroke-linecap=\"round\" style=\"stroke:rgb(127,191,213);stroke-width:3\" /><line x1=\"145.42\" y1=\"250.553\" x2=\"271.164\" y2=\"221.754\" stroke-linecap=\"round\" style=\"stroke:rgb(126,191,212);stroke-width:3\" /><line x1=\"271.164\" y1=\"221.754\" x2=\"182.504\" y2=\"126.678\" stroke-linecap=\"round\" style=\"stroke:rgb(125,190,212);stroke-width:3\" /><line x1=\"182.504\" y1=\"126.678\" x2=\"144.422\" y2=\"252.021\" stroke-linecap=\"round\" style=\"stroke:rgb(124,190,212);stroke-width:3\" /><line x1=\"144.422\" y1=\"252.021\" x2=\"272.934\" y2=\"221.879\" stroke-linecap=\"round\" style=\"stroke:rgb(123,189,211);stroke-width:3\" /><line x1=\"272.934\" y1=\"221.879\" x2=\"181.72\" y2=\"125.085\" stroke-linecap=\"round\" style=\"stroke:rgb(122,189,211);stroke-width:3\" /><line x1=\"181.72\" y1=\"125.085\" x2=\"143.438\" y2=\"253.5\" stroke-linecap=\"round\" style=\"stroke:rgb(121,188,211);stroke-width:3\" /><line x1=\"143.438\" y1=\"253.5\" x2=\"274.708\" y2=\"221.985\" stroke-linecap=\"round\" style=\"stroke:rgb(120,188,210);stroke-width:3\" /><line x1=\"274.708\" y1=\"221.985\" x2=\"180.92\" y2=\"123.498\" stroke-linecap=\"round\" style=\"stroke:rgb(119,187,210);stroke-width:3\" /><line x1=\"180.92\" y1=\"123.498\" x2=\"142.469\" y2=\"254.991\" stroke-linecap=\"round\" style=\"stroke:rgb(118,187,210);stroke-width:3\" /><line x1=\"142.469\" y1=\"254.991\" x2=\"276.486\" y2=\"222.073\" stroke-linecap=\"round\" style=\"stroke:rgb(117,186,209);stroke-width:3\" /><line x1=\"276.486\" y1=\"222.073\" x2=\"180.103\" y2=\"121.916\" stroke-linecap=\"round\" style=\"stroke:rgb(116,186,209);stroke-width:3\" /><line x1=\"180.103\" y1=\"121.916\" x2=\"141.514\" y2=\"256.493\" stroke-linecap=\"round\" style=\"stroke:rgb(115,185,209);stroke-width:3\" /><line x1=\"141.514\" y1=\"256.493\" x2=\"278.266\" y2=\"222.143\" stroke-linecap=\"round\" style=\"stroke:rgb(114,185,208);stroke-width:3\" /><line x1=\"278.266\" y1=\"222.143\" x2=\"179.269\" y2=\"120.342\" stroke-linecap=\"round\" style=\"stroke:rgb(113,184,208);stroke-width:3\" /><line x1=\"179.269\" y1=\"120.342\" x2=\"140.573\" y2=\"258.007\" stroke-linecap=\"round\" style=\"stroke:rgb(112,184,208);stroke-width:3\" /><line x1=\"140.573\" y1=\"258.007\" x2=\"280.049\" y2=\"222.196\" stroke-linecap=\"round\" style=\"stroke:rgb(111,183,207);stroke-width:3\" /><line x1=\"280.049\" y1=\"222.196\" x2=\"178.417\" y2=\"118.775\" stroke-linecap=\"round\" style=\"stroke:rgb(110,183,207);stroke-width:3\" /><line x1=\"178.417\" y1=\"118.775\" x2=\"139.646\" y2=\"259.533\" stroke-linecap=\"round\" style=\"stroke:rgb(109,182,207);stroke-width:3\" /><line x1=\"139.646\" y1=\"259.533\" x2=\"281.834\" y2=\"222.231\" stroke-linecap=\"round\" style=\"stroke:rgb(108,182,206);stroke-width:3\" /><line x1=\"281.834\" y1=\"222.231\" x2=\"177.548\" y2=\"117.215\" stroke-linecap=\"round\" style=\"stroke:rgb(107,181,206);stroke-width:3\" /><line x1=\"177.548\" y1=\"117.215\" x2=\"138.733\" y2=\"261.07\" stroke-linecap=\"round\" style=\"stroke:rgb(106,181,206);stroke-width:3\" /><line x1=\"138.733\" y1=\"261.07\" x2=\"283.622\" y2=\"222.247\" stroke-linecap=\"round\" style=\"stroke:rgb(105,180,205);stroke-width:3\" /><line x1=\"283.622\" y1=\"222.247\" x2=\"176.663\" y2=\"115.66\" stroke-linecap=\"round\" style=\"stroke:rgb(104,180,205);stroke-width:3\" /><line x1=\"176.663\" y1=\"115.66\" x2=\"137.835\" y2=\"262.617\" stroke-linecap=\"round\" style=\"stroke:rgb(103,179,205);stroke-width:3\" /><line x1=\"137.835\" y1=\"262.617\" x2=\"285.412\" y2=\"222.244\" stroke-linecap=\"round\" style=\"stroke:rgb(102,179,204);stroke-width:3\" /><line x1=\"285.412\" y1=\"222.244\" x2=\"175.76\" y2=\"114.112\" stroke-linecap=\"round\" style=\"stroke:rgb(101,178,204);stroke-width:3\" /><line x1=\"175.76\" y1=\"114.112\" x2=\"136.951\" y2=\"264.175\" stroke-linecap=\"round\" style=\"stroke:rgb(100,178,204);stroke-width:3\" /><line x1=\"136.951\" y1=\"264.175\" x2=\"287.204\" y2=\"222.224\" stroke-linecap=\"round\" style=\"stroke:rgb(99,177,203);stroke-width:3\" /><line x1=\"287.204\" y1=\"222.224\" x2=\"174.84\" y2=\"112.573\" stroke-linecap=\"round\" style=\"stroke:rgb(98,177,203);stroke-width:3\" /><line x1=\"174.84\" y1=\"112.573\" x2=\"136.081\" y2=\"265.745\" stroke-linecap=\"round\" style=\"stroke:rgb(97,176,203);stroke-width:3\" /><line x1=\"136.081\" y1=\"265.745\" x2=\"288.998\" y2=\"222.185\" stroke-linecap=\"round\" style=\"stroke:rgb(96,176,202);stroke-width:3\" /><line x1=\"288.998\" y1=\"222.185\" x2=\"173.904\" y2=\"111.04\" stroke-linecap=\"round\" style=\"stroke:rgb(95,175,202);stroke-width:3\" /><line x1=\"173.904\" y1=\"111.04\" x2=\"135.227\" y2=\"267.325\" stroke-linecap=\"round\" style=\"stroke:rgb(94,175,202);stroke-width:3\" /><line x1=\"135.227\" y1=\"267.325\" x2=\"290.795\" y2=\"222.128\" stroke-linecap=\"round\" style=\"stroke:rgb(93,174,201);stroke-width:3\" /><line x1=\"290.795\" y1=\"222.128\" x2=\"172.951\" y2=\"109.514\" stroke-linecap=\"round\" style=\"stroke:rgb(92,174,201);stroke-width:3\" /><line x1=\"172.951\" y1=\"109.514\" x2=\"134.388\" y2=\"268.916\" stroke-linecap=\"round\" style=\"stroke:rgb(91,173,201);stroke-width:3\" /><line x1=\"134.388\" y1=\"268.916\" x2=\"292.593\" y2=\"222.053\" stroke-linecap=\"round\" style=\"stroke:rgb(90,173,200);stroke-width:3\" /><line x1=\"292.593\" y1=\"222.053\" x2=\"171.982\" y2=\"107.996\" stroke-linecap=\"round\" style=\"stroke:rgb(89,172,200);stroke-width:3\" /><line x1=\"171.982\" y1=\"107.996\" x2=\"133.564\" y2=\"270.517\" stroke-linecap=\"round\" style=\"stroke:rgb(88,172,200);stroke-width:3\" /><line x1=\"133.564\" y1=\"270.517\" x2=\"294.394\" y2=\"221.96\" stroke-linecap=\"round\" style=\"stroke:rgb(87,171,199);stroke-width:3\" /><line x1=\"294.394\" y1=\"221.96\" x2=\"170.997\" y2=\"106.487\" stroke-linecap=\"round\" style=\"stroke:rgb(86,171,199);stroke-width:3\" /><line x1=\"170.997\" y1=\"106.487\" x2=\"132.755\" y2=\"272.13\" stroke-linecap=\"round\" style=\"stroke:rgb(85,170,199);stroke-width:3\" /><line x1=\"132.755\" y1=\"272.13\" x2=\"296.196\" y2=\"221.849\" stroke-linecap=\"round\" style=\"stroke:rgb(84,170,198);stroke-width:3\" /><line x1=\"296.196\" y1=\"221.849\" x2=\"169.994\" y2=\"104.985\" stroke-linecap=\"round\" style=\"stroke:rgb(83,169,198);stroke-width:3\" /><line x1=\"169.994\" y1=\"104.985\" x2=\"131.961\" y2=\"273.752\" stroke-linecap=\"round\" style=\"stroke:rgb(82,169,198);stroke-width:3\" /><line x1=\"131.961\" y1=\"273.752\" x2=\"297.999\" y2=\"221.719\" stroke-linecap=\"round\" style=\"stroke:rgb(81,168,197);stroke-width:3\" /><line x1=\"297.999\" y1=\"221.719\" x2=\"168.975\" y2=\"103.491\" stroke-linecap=\"round\" style=\"stroke:rgb(80,168,197);stroke-width:3\" /><line x1=\"168.975\" y1=\"103.491\" x2=\"131.182\" y2=\"275.385\" stroke-linecap=\"round\" style=\"stroke:rgb(79,167,197);stroke-width:3\" /><line x1=\"131.182\" y1=\"275.385\" x2=\"299.803\" y2=\"221.571\" stroke-linecap=\"round\" style=\"stroke:rgb(78,167,196);stroke-width:3\" /><line x1=\"299.803\" y1=\"221.571\" x2=\"167.94\" y2=\"102.005\" stroke-linecap=\"round\" style=\"stroke:rgb(77,166,196);stroke-width:3\" /><line x1=\"167.94\" y1=\"102.005\" x2=\"130.418\" y2=\"277.028\" stroke-linecap=\"round\" style=\"stroke:rgb(76,166,196);stroke-width:3\" /><line x1=\"130.418\" y1=\"277.028\" x2=\"301.608\" y2=\"221.405\" stroke-linecap=\"round\" style=\"stroke:rgb(75,165,195);stroke-width:3\" /><line x1=\"301.608\" y1=\"221.405\" x2=\"166.888\" y2=\"100.527\" stroke-linecap=\"round\" style=\"stroke:rgb(74,165,195);stroke-width:3\" /><line x1=\"166.888\" y1=\"100.527\" x2=\"129.67\" y2=\"278.681\" stroke-linecap=\"round\" style=\"stroke:rgb(73,164,195);stroke-width:3\" /><line x1=\"129.67\" y1=\"278.681\" x2=\"303.415\" y2=\"221.22\" stroke-linecap=\"round\" style=\"stroke:rgb(72,164,194);stroke-width:3\" /><line x1=\"303.415\" y1=\"221.22\" x2=\"165.82\" y2=\"99.058\" stroke-linecap=\"round\" style=\"stroke:rgb(71,163,194);stroke-width:3\" /><line x1=\"165.82\" y1=\"99.058\" x2=\"128.937\" y2=\"280.344\" stroke-linecap=\"round\" style=\"stroke:rgb(70,163,194);stroke-width:3\" /><line x1=\"128.937\" y1=\"280.344\" x2=\"305.222\" y2=\"221.018\" stroke-linecap=\"round\" style=\"stroke:rgb(69,162,193);stroke-width:3\" /><line x1=\"305.222\" y1=\"221.018\" x2=\"164.736\" y2=\"97.598\" stroke-linecap=\"round\" style=\"stroke:rgb(68,162,193);stroke-width:3\" /><line x1=\"164.736\" y1=\"97.598\" x2=\"128.22\" y2=\"282.018\" stroke-linecap=\"round\" style=\"stroke:rgb(67,161,193);stroke-width:3\" /><line x1=\"128.22\" y1=\"282.018\" x2=\"307.03\" y2=\"220.798\" stroke-linecap=\"round\" style=\"stroke:rgb(66,161,192);stroke-width:3\" /><line x1=\"307.03\" y1=\"220.798\" x2=\"163.635\" y2=\"96.147\" stroke-linecap=\"round\" style=\"stroke:rgb(65,160,192);stroke-width:3\" /><line x1=\"163.635\" y1=\"96.147\" x2=\"127.518\" y2=\"283.701\" stroke-linecap=\"round\" style=\"stroke:rgb(64,160,192);stroke-width:3\" /><line x1=\"127.518\" y1=\"283.701\" x2=\"308.838\" y2=\"220.559\" stroke-linecap=\"round\" style=\"stroke:rgb(63,159,191);stroke-width:3\" /><line x1=\"308.838\" y1=\"220.559\" x2=\"162.518\" y2=\"94.704\" stroke-linecap=\"round\" style=\"stroke:rgb(62,159,191);stroke-width:3\" /><line x1=\"162.518\" y1=\"94.704\" x2=\"126.831\" y2=\"285.393\" stroke-linecap=\"round\" style=\"stroke:rgb(61,158,191);stroke-width:3\" /><line x1=\"126.831\" y1=\"285.393\" x2=\"310.646\" y2=\"220.301\" stroke-linecap=\"round\" style=\"stroke:rgb(60,158,190);stroke-width:3\" /><line x1=\"310.646\" y1=\"220.301\" x2=\"161.384\" y2=\"93.269\" stroke-linecap=\"round\" style=\"stroke:rgb(59,157,190);stroke-width:3\" /><line x1=\"161.384\" y1=\"93.269\" x2=\"126.16\" y2=\"287.094\" stroke-linecap=\"round\" style=\"stroke:rgb(58,157,190);stroke-width:3\" /><line x1=\"126.16\" y1=\"287.094\" x2=\"312.454\" y2=\"220.024\" stroke-linecap=\"round\" style=\"stroke:rgb(57,156,189);stroke-width:3\" /><line x1=\"312.454\" y1=\"220.024\" x2=\"160.235\" y2=\"91.843\" stroke-linecap=\"round\" style=\"stroke:rgb(56,156,189);stroke-width:3\" /><line x1=\"160.235\" y1=\"91.843\" x2=\"125.505\" y2=\"288.805\" stroke-linecap=\"round\" style=\"stroke:rgb(55,155,189);stroke-width:3\" /><line x1=\"125.505\" y1=\"288.805\" x2=\"314.263\" y2=\"219.729\" stroke-linecap=\"round\" style=\"stroke:rgb(54,155,188);stroke-width:3\" /><line x1=\"314.263\" y1=\"219.729\" x2=\"159.07\" y2=\"90.427\" stroke-linecap=\"round\" style=\"stroke:rgb(53,154,188);stroke-width:3\" /><line x1=\"159.07\" y1=\"90.427\" x2=\"124.867\" y2=\"290.525\" stroke-linecap=\"round\" style=\"stroke:rgb(52,154,188);stroke-width:3\" /><line x1=\"124.867\" y1=\"290.525\" x2=\"316.073\" y2=\"219.416\" stroke-linecap=\"round\" style=\"stroke:rgb(51,153,187);stroke-width:3\" /><line x1=\"316.073\" y1=\"219.416\" x2=\"157.89\" y2=\"89.02\" stroke-linecap=\"round\" style=\"stroke:rgb(50,153,187);stroke-width:3\" /><line x1=\"157.89\" y1=\"89.02\" x2=\"124.245\" y2=\"292.254\" stroke-linecap=\"round\" style=\"stroke:rgb(49,152,187);stroke-width:3\" /><line x1=\"124.245\" y1=\"292.254\" x2=\"317.882\" y2=\"219.085\" stroke-linecap=\"round\" style=\"stroke:rgb(48,152,186);stroke-width:3\" /><line x1=\"317.882\" y1=\"219.085\" x2=\"156.694\" y2=\"87.623\" stroke-linecap=\"round\" style=\"stroke:rgb(47,151,186);stroke-width:3\" /><line x1=\"156.694\" y1=\"87.623\" x2=\"123.639\" y2=\"293.992\" stroke-linecap=\"round\" style=\"stroke:rgb(46,151,186);stroke-width:3\" /><line x1=\"123.639\" y1=\"293.992\" x2=\"319.691\" y2=\"218.735\" stroke-linecap=\"round\" style=\"stroke:rgb(45,150,185);stroke-width:3\" /><line x1=\"319.691\" y1=\"218.735\" x2=\"155.482\" y2=\"86.235\" stroke-linecap=\"round\" style=\"stroke:rgb(44,150,185);stroke-width:3\" /><line x1=\"155.482\" y1=\"86.235\" x2=\"123.049\" y2=\"295.739\" stroke-linecap=\"round\" style=\"stroke:rgb(43,149,185);stroke-width:3\" /><line x1=\"123.049\" y1=\"295.739\" x2=\"321.499\" y2=\"218.366\" stroke-linecap=\"round\" style=\"stroke:rgb(42,149,184);stroke-width:3\" /><line x1=\"321.499\" y1=\"218.366\" x2=\"154.254\" y2=\"84.856\" stroke-linecap=\"round\" style=\"stroke:rgb(41,148,184);stroke-width:3\" /><line x1=\"154.254\" y1=\"84.856\" x2=\"122.475\" y2=\"297.494\" stroke-linecap=\"round\" style=\"stroke:rgb(40,148,184);stroke-width:3\" /><line x1=\"122.475\" y1=\"297.494\" x2=\"323.307\" y2=\"217.979\" stroke-linecap=\"round\" style=\"stroke:rgb(39,147,183);stroke-width:3\" /><line x1=\"323.307\" y1=\"217.979\" x2=\"153.011\" y2=\"83.487\" stroke-linecap=\"round\" style=\"stroke:rgb(38,147,183);stroke-width:3\" /><line x1=\"153.011\" y1=\"83.487\" x2=\"121.918\" y2=\"299.258\" stroke-linecap=\"round\" style=\"stroke:rgb(37,146,183);stroke-width:3\" /><line x1=\"121.918\" y1=\"299.258\" x2=\"325.114\" y2=\"217.574\" stroke-linecap=\"round\" style=\"stroke:rgb(36,146,182);stroke-width:3\" /><line x1=\"325.114\" y1=\"217.574\" x2=\"151.752\" y2=\"82.128\" stroke-linecap=\"round\" style=\"stroke:rgb(35,145,182);stroke-width:3\" /><line x1=\"151.752\" y1=\"82.128\" x2=\"121.377\" y2=\"301.031\" stroke-linecap=\"round\" style=\"stroke:rgb(34,145,182);stroke-width:3\" /><line x1=\"121.377\" y1=\"301.031\" x2=\"326.92\" y2=\"217.15\" stroke-linecap=\"round\" style=\"stroke:rgb(33,144,181);stroke-width:3\" /><line x1=\"326.92\" y1=\"217.15\" x2=\"150.477\" y2=\"80.779\" stroke-linecap=\"round\" style=\"stroke:rgb(32,144,181);stroke-width:3\" /><line x1=\"150.477\" y1=\"80.779\" x2=\"120.852\" y2=\"302.811\" stroke-linecap=\"round\" style=\"stroke:rgb(31,143,181);stroke-width:3\" /><line x1=\"120.852\" y1=\"302.811\" x2=\"328.725\" y2=\"216.707\" stroke-linecap=\"round\" style=\"stroke:rgb(30,143,180);stroke-width:3\" /><line x1=\"328.725\" y1=\"216.707\" x2=\"149.187\" y2=\"79.44\" stroke-linecap=\"round\" style=\"stroke:rgb(29,142,180);stroke-width:3\" /><line x1=\"149.187\" y1=\"79.44\" x2=\"120.343\" y2=\"304.6\" stroke-linecap=\"round\" style=\"stroke:rgb(28,142,180);stroke-width:3\" /><line x1=\"120.343\" y1=\"304.6\" x2=\"330.528\" y2=\"216.246\" stroke-linecap=\"round\" style=\"stroke:rgb(27,141,179);stroke-width:3\" /><line x1=\"330.528\" y1=\"216.246\" x2=\"147.881\" y2=\"78.111\" stroke-linecap=\"round\" style=\"stroke:rgb(26,141,179);stroke-width:3\" /><line x1=\"147.881\" y1=\"78.111\" x2=\"119.851\" y2=\"306.397\" stroke-linecap=\"round\" style=\"stroke:rgb(25,140,179);stroke-width:3\" /><line x1=\"119.851\" y1=\"306.397\" x2=\"332.33\" y2=\"215.767\" stroke-linecap=\"round\" style=\"stroke:rgb(24,140,178);stroke-width:3\" /><line x1=\"332.33\" y1=\"215.767\" x2=\"146.56\" y2=\"76.794\" stroke-linecap=\"round\" style=\"stroke:rgb(23,139,178);stroke-width:3\" /><line x1=\"146.56\" y1=\"76.794\" x2=\"119.376\" y2=\"308.203\" stroke-linecap=\"round\" style=\"stroke:rgb(22,139,178);stroke-width:3\" /><line x1=\"119.376\" y1=\"308.203\" x2=\"334.131\" y2=\"215.27\" stroke-linecap=\"round\" style=\"stroke:rgb(21,138,177);stroke-width:3\" /><line x1=\"334.131\" y1=\"215.27\" x2=\"145.225\" y2=\"75.487\" stroke-linecap=\"round\" style=\"stroke:rgb(20,138,177);stroke-width:3\" /><line x1=\"145.225\" y1=\"75.487\" x2=\"118.918\" y2=\"310.016\" stroke-linecap=\"round\" style=\"stroke:rgb(19,137,177);stroke-width:3\" /><line x1=\"118.918\" y1=\"310.016\" x2=\"335.93\" y2=\"214.754\" stroke-linecap=\"round\" style=\"stroke:rgb(18,137,176);stroke-width:3\" /><line x1=\"335.93\" y1=\"214.754\" x2=\"143.873\" y2=\"74.19\" stroke-linecap=\"round\" style=\"stroke:rgb(17,136,176);stroke-width:3\" /><line x1=\"143.873\" y1=\"74.19\" x2=\"118.476\" y2=\"311.837\" stroke-linecap=\"round\" style=\"stroke:rgb(16,136,176);stroke-width:3\" /><line x1=\"118.476\" y1=\"311.837\" x2=\"337.727\" y2=\"214.22\" stroke-linecap=\"round\" style=\"stroke:rgb(15,135,175);stroke-width:3\" /><line x1=\"337.727\" y1=\"214.22\" x2=\"142.507\" y2=\"72.904\" stroke-linecap=\"round\" style=\"stroke:rgb(14,135,175);stroke-width:3\" /><line x1=\"142.507\" y1=\"72.904\" x2=\"118.051\" y2=\"313.665\" stroke-linecap=\"round\" style=\"stroke:rgb(13,134,175);stroke-width:3\" /><line x1=\"118.051\" y1=\"313.665\" x2=\"339.522\" y2=\"213.667\" stroke-linecap=\"round\" style=\"stroke:rgb(12,134,174);stroke-width:3\" /><line x1=\"339.522\" y1=\"213.667\" x2=\"141.125\" y2=\"71.629\" stroke-linecap=\"round\" style=\"stroke:rgb(11,133,174);stroke-width:3\" /><line x1=\"141.125\" y1=\"71.629\" x2=\"117.643\" y2=\"315.501\" stroke-linecap=\"round\" style=\"stroke:rgb(10,133,174);stroke-width:3\" /><line x1=\"117.643\" y1=\"315.501\" x2=\"341.315\" y2=\"213.096\" stroke-linecap=\"round\" style=\"stroke:rgb(9,132,173);stroke-width:3\" /><line x1=\"341.315\" y1=\"213.096\" x2=\"139.729\" y2=\"70.365\" stroke-linecap=\"round\" style=\"stroke:rgb(8,132,173);stroke-width:3\" /><line x1=\"139.729\" y1=\"70.365\" x2=\"117.252\" y2=\"317.344\" stroke-linecap=\"round\" style=\"stroke:rgb(7,131,173);stroke-width:3\" /><line x1=\"117.252\" y1=\"317.344\" x2=\"343.106\" y2=\"212.506\" stroke-linecap=\"round\" style=\"stroke:rgb(6,131,172);stroke-width:3\" /><line x1=\"343.106\" y1=\"212.506\" x2=\"138.318\" y2=\"69.112\" stroke-linecap=\"round\" style=\"stroke:rgb(5,130,172);stroke-width:3\" /><line x1=\"138.318\" y1=\"69.112\" x2=\"116.878\" y2=\"319.195\" stroke-linecap=\"round\" style=\"stroke:rgb(4,130,172);stroke-width:3\" /><line x1=\"116.878\" y1=\"319.195\" x2=\"344.894\" y2=\"211.899\" stroke-linecap=\"round\" style=\"stroke:rgb(3,129,171);stroke-width:3\" /><line x1=\"344.894\" y1=\"211.899\" x2=\"136.892\" y2=\"67.871\" stroke-linecap=\"round\" style=\"stroke:rgb(2,129,171);stroke-width:3\" /><line x1=\"136.892\" y1=\"67.871\" x2=\"116.521\" y2=\"321.053\" stroke-linecap=\"round\" style=\"stroke:rgb(1,128,171);stroke-width:3\" /><line x1=\"116.521\" y1=\"321.053\" x2=\"346.68\" y2=\"211.273\" stroke-linecap=\"round\" style=\"stroke:rgb(0,128,170);stroke-width:3\" /><line x1=\"346.68\" y1=\"211.273\" x2=\"135.451\" y2=\"66.641\" stroke-linecap=\"round\" style=\"stroke:rgb(0,127,170);stroke-width:3\" /><line x1=\"135.451\" y1=\"66.641\" x2=\"116.181\" y2=\"322.918\" stroke-linecap=\"round\" style=\"stroke:rgb(0,127,170);stroke-width:3\" /><line x1=\"116.181\" y1=\"322.918\" x2=\"348.463\" y2=\"210.628\" stroke-linecap=\"round\" style=\"stroke:rgb(0,126,169);stroke-width:3\" /><line x1=\"348.463\" y1=\"210.628\" x2=\"133.995\" y2=\"65.423\" stroke-linecap=\"round\" style=\"stroke:rgb(0,126,169);stroke-width:3\" /><line x1=\"133.995\" y1=\"65.423\" x2=\"115.858\" y2=\"324.79\" stroke-linecap=\"round\" style=\"stroke:rgb(0,125,169);stroke-width:3\" /><line x1=\"115.858\" y1=\"324.79\" x2=\"350.243\" y2=\"209.966\" stroke-linecap=\"round\" style=\"stroke:rgb(0,125,168);stroke-width:3\" /><line x1=\"350.243\" y1=\"209.966\" x2=\"132.525\" y2=\"64.217\" stroke-linecap=\"round\" style=\"stroke:rgb(0,124,168);stroke-width:3\" /><line x1=\"132.525\" y1=\"64.217\" x2=\"115.553\" y2=\"326.669\" stroke-linecap=\"round\" style=\"stroke:rgb(0,124,168);stroke-width:3\" /><line x1=\"115.553\" y1=\"326.669\" x2=\"352.021\" y2=\"209.285\" stroke-linecap=\"round\" style=\"stroke:rgb(0,123,167);stroke-width:3\" /><line x1=\"352.021\" y1=\"209.285\" x2=\"131.041\" y2=\"63.022\" stroke-linecap=\"round\" style=\"stroke:rgb(0,123,167);stroke-width:3\" /><line x1=\"131.041\" y1=\"63.022\" x2=\"115.266\" y2=\"328.554\" stroke-linecap=\"round\" style=\"stroke:rgb(0,122,167);stroke-width:3\" /><line x1=\"115.266\" y1=\"328.554\" x2=\"353.796\" y2=\"208.586\" stroke-linecap=\"round\" style=\"stroke:rgb(0,122,166);stroke-width:3\" /><line x1=\"353.796\" y1=\"208.586\" x2=\"129.543\" y2=\"61.839\" stroke-linecap=\"round\" style=\"stroke:rgb(0,121,166);stroke-width:3\" /><line x1=\"129.543\" y1=\"61.839\" x2=\"114.996\" y2=\"330.445\" stroke-linecap=\"round\" style=\"stroke:rgb(0,121,166);stroke-width:3\" /><line x1=\"114.996\" y1=\"330.445\" x2=\"355.568\" y2=\"207.868\" stroke-linecap=\"round\" style=\"stroke:rgb(0,120,165);stroke-width:3\" /><line x1=\"355.568\" y1=\"207.868\" x2=\"128.031\" y2=\"60.668\" stroke-linecap=\"round\" style=\"stroke:rgb(0,120,165);stroke-width:3\" /><line x1=\"128.031\" y1=\"60.668\" x2=\"114.744\" y2=\"332.343\" stroke-linecap=\"round\" style=\"stroke:rgb(0,119,165);stroke-width:3\" /><line x1=\"114.744\" y1=\"332.343\" x2=\"357.337\" y2=\"207.132\" stroke-linecap=\"round\" style=\"stroke:rgb(0,119,164);stroke-width:3\" /><line x1=\"357.337\" y1=\"207.132\" x2=\"126.505\" y2=\"59.509\" stroke-linecap=\"round\" style=\"stroke:rgb(0,118,164);stroke-width:3\" /><line x1=\"126.505\" y1=\"59.509\" x2=\"114.51\" y2=\"334.247\" stroke-linecap=\"round\" style=\"stroke:rgb(0,118,164);stroke-width:3\" /><line x1=\"114.51\" y1=\"334.247\" x2=\"359.102\" y2=\"206.377\" stroke-linecap=\"round\" style=\"stroke:rgb(0,117,163);stroke-width:3\" /><line x1=\"359.102\" y1=\"206.377\" x2=\"124.964\" y2=\"58.361\" stroke-linecap=\"round\" style=\"stroke:rgb(0,117,163);stroke-width:3\" /><line x1=\"124.964\" y1=\"58.361\" x2=\"114.292\" y2=\"336.156\" stroke-linecap=\"round\" style=\"stroke:rgb(0,116,163);stroke-width:3\" /><line x1=\"114.292\" y1=\"336.156\" x2=\"360.863\" y2=\"205.604\" stroke-linecap=\"round\" style=\"stroke:rgb(0,116,162);stroke-width:3\" /><line x1=\"360.863\" y1=\"205.604\" x2=\"123.41\" y2=\"57.227\" stroke-linecap=\"round\" style=\"stroke:rgb(0,115,162);stroke-width:3\" /><line x1=\"123.41\" y1=\"57.227\" x2=\"114.093\" y2=\"338.073\" stroke-linecap=\"round\" style=\"stroke:rgb(0,115,162);stroke-width:3\" /><line x1=\"114.093\" y1=\"338.073\" x2=\"362.621\" y2=\"204.814\" stroke-linecap=\"round\" style=\"stroke:rgb(0,114,161);stroke-width:3\" /><line x1=\"362.621\" y1=\"204.814\" x2=\"121.841\" y2=\"56.106\" stroke-linecap=\"round\" style=\"stroke:rgb(0,114,161);stroke-width:3\" /><line x1=\"121.841\" y1=\"56.106\" x2=\"113.911\" y2=\"339.995\" stroke-linecap=\"round\" style=\"stroke:rgb(0,113,161);stroke-width:3\" /><line x1=\"113.911\" y1=\"339.995\" x2=\"364.374\" y2=\"204.005\" stroke-linecap=\"round\" style=\"stroke:rgb(0,113,160);stroke-width:3\" /><line x1=\"364.374\" y1=\"204.005\" x2=\"120.258\" y2=\"54.996\" stroke-linecap=\"round\" style=\"stroke:rgb(0,112,160);stroke-width:3\" /><line x1=\"120.258\" y1=\"54.996\" x2=\"113.747\" y2=\"341.922\" stroke-linecap=\"round\" style=\"stroke:rgb(0,112,160);stroke-width:3\" /><line x1=\"113.747\" y1=\"341.922\" x2=\"366.123\" y2=\"203.177\" stroke-linecap=\"round\" style=\"stroke:rgb(0,111,159);stroke-width:3\" /><line x1=\"366.123\" y1=\"203.177\" x2=\"118.662\" y2=\"53.899\" stroke-linecap=\"round\" style=\"stroke:rgb(0,111,159);stroke-width:3\" /><line x1=\"118.662\" y1=\"53.899\" x2=\"113.601\" y2=\"343.855\" stroke-linecap=\"round\" style=\"stroke:rgb(0,110,159);stroke-width:3\" /><line x1=\"113.601\" y1=\"343.855\" x2=\"367.869\" y2=\"202.331\" stroke-linecap=\"round\" style=\"stroke:rgb(0,110,158);stroke-width:3\" /><line x1=\"367.869\" y1=\"202.331\" x2=\"117.053\" y2=\"52.814\" stroke-linecap=\"round\" style=\"stroke:rgb(0,109,158);stroke-width:3\" /><line x1=\"117.053\" y1=\"52.814\" x2=\"113.473\" y2=\"345.792\" stroke-linecap=\"round\" style=\"stroke:rgb(0,109,158);stroke-width:3\" /><line x1=\"113.473\" y1=\"345.792\" x2=\"369.61\" y2=\"201.466\" stroke-linecap=\"round\" style=\"stroke:rgb(0,108,157);stroke-width:3\" /><line x1=\"369.61\" y1=\"201.466\" x2=\"115.429\" y2=\"51.742\" stroke-linecap=\"round\" style=\"stroke:rgb(0,108,157);stroke-width:3\" /><line x1=\"115.429\" y1=\"51.742\" x2=\"113.363\" y2=\"347.735\" stroke-linecap=\"round\" style=\"stroke:rgb(0,107,157);stroke-width:3\" /><line x1=\"113.363\" y1=\"347.735\" x2=\"371.347\" y2=\"200.584\" stroke-linecap=\"round\" style=\"stroke:rgb(0,107,156);stroke-width:3\" /><line x1=\"371.347\" y1=\"200.584\" x2=\"113.793\" y2=\"50.684\" stroke-linecap=\"round\" style=\"stroke:rgb(0,106,156);stroke-width:3\" /><line x1=\"113.793\" y1=\"50.684\" x2=\"113.271\" y2=\"349.684\" stroke-linecap=\"round\" style=\"stroke:rgb(0,106,156);stroke-width:3\" />\n",
              "        \n",
              "        \n",
              "        <g id=\"classic\" visibility=\"visible\" transform=\"rotate(0.10000000000451337,113.271,349.684) translate(113.271, 349.684)\">\n",
              "<polygon points=\"-5,-4.5 0,-2.5 5,-4.5 0,4.5\" transform=\"skewX(0) scale(1,1)\" style=\"stroke:rgb(0,106,156);fill:blue;stroke-width:1\" />\n",
              "<animateTransform id = \"one\" attributeName=\"transform\" \n",
              "                      type=\"scale\"\n",
              "                      from=\"1 1\" to=\"1 1\"\n",
              "                      begin=\"0s\" dur=\"0.01s\"\n",
              "                      repeatCount=\"1\"\n",
              "                      additive=\"sum\"\n",
              "                      fill=\"freeze\"\n",
              "                /><animateTransform attributeName=\"transform\"\n",
              "                    type=\"rotate\"\n",
              "                    from=\"0 0 0\" to =\"-120.1 0 0\"\n",
              "                    begin=\"one.end\" dur=\"0.006672222222222223s\"\n",
              "                    repeatCount=\"1\"\n",
              "                    additive=\"sum\"\n",
              "                    fill=\"freeze\"\n",
              "                /></g>\n",
              "      </svg>\n",
              "    "
            ]
          },
          "metadata": {}
        }
      ]
    },
    {
      "cell_type": "markdown",
      "source": [
        "<br/><BR/>"
      ],
      "metadata": {
        "id": "T1VrXym6tjGs"
      }
    },
    {
      "cell_type": "markdown",
      "source": [
        "### **Program #2 |** Creating your own functions\n",
        "---\n",
        "\n",
        "\n",
        "In this program you need to use the calls to the `get_rating()` function to ask the user for their rating between 1 and 5 for the given item.\n",
        "\n",
        "The function must prompt the user based on what is being rated, validate the value ot ensure it's within the correct range, and then return the value to be printed out in the main program."
      ],
      "metadata": {
        "id": "_e0dz8zcsAdg"
      }
    },
    {
      "cell_type": "code",
      "source": [
        "### TODO: Write your function here\n",
        "def get_rating(category):\n",
        "  rating = 0\n",
        "  while True:\n",
        "    try:\n",
        "      rating = int(input(f'Please rate the {category} from 1 to 5: '))\n",
        "      if rating < 1 or rating > 5:\n",
        "        print(\"Please input a number from 1 to 5 only. Thank you.\")\n",
        "      else:\n",
        "        return rating #Ends the function and moves onto the next calling\n",
        "    except ValueError:\n",
        "      print(\"Please only input numbers and not characters or symbols.  Thank you.\")\n",
        "\n",
        "####\n",
        "\n",
        "rate_food = get_rating(\"food\")\n",
        "rate_service = get_rating(\"service\")\n",
        "rate_price = get_rating(\"price\")\n",
        "\n",
        "print(\"Thank you for your ratings: \")\n",
        "print(\"Food:    \",rate_food)\n",
        "print(\"Service: \",rate_service)\n",
        "print(\"Price:   \",rate_price)\n"
      ],
      "metadata": {
        "colab": {
          "base_uri": "https://localhost:8080/"
        },
        "id": "w418Hf-EsL_B",
        "outputId": "b7c1ec47-15f8-4eb1-f805-7d409022d76d"
      },
      "execution_count": 38,
      "outputs": [
        {
          "output_type": "stream",
          "name": "stdout",
          "text": [
            "Please rate the food from 1 to 5: 99\n",
            "Please input a number from 1 to 5 only. Thank you.\n",
            "Please rate the food from 1 to 5: 20\n",
            "Please input a number from 1 to 5 only. Thank you.\n",
            "Please rate the food from 1 to 5: 5\n",
            "Please rate the service from 1 to 5: 3\n",
            "Please rate the price from 1 to 5: 3\n",
            "Thank you for your ratings: \n",
            "Food:     5\n",
            "Service:  3\n",
            "Price:    3\n"
          ]
        }
      ]
    },
    {
      "cell_type": "markdown",
      "source": [
        "### **Submission**\n",
        "---\n",
        "\n",
        "When you believe you have the program correctly working, please run the program and enter valid details for height and weight (you don't need to use your own if you do not want to) to get the output of BMI to show.\n",
        "<br/><br/>\n",
        "When you are ready to submit please go to `File` -> `Print` -> `Print PDF` and then upload and submit in the LMS.\n",
        "\n",
        "Please save your file to GitHub via: `File` -> `Save a copy in GitHub`"
      ],
      "metadata": {
        "id": "N-XTusSvusCo"
      }
    }
  ]
}