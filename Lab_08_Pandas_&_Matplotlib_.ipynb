{
  "nbformat": 4,
  "nbformat_minor": 0,
  "metadata": {
    "colab": {
      "provenance": [],
      "include_colab_link": true
    },
    "kernelspec": {
      "name": "python3",
      "display_name": "Python 3"
    },
    "language_info": {
      "name": "python"
    }
  },
  "cells": [
    {
      "cell_type": "markdown",
      "metadata": {
        "id": "view-in-github",
        "colab_type": "text"
      },
      "source": [
        "<a href=\"https://colab.research.google.com/github/r3dkoi/CST182/blob/main/Lab_08_Pandas_%26_Matplotlib_.ipynb\" target=\"_parent\"><img src=\"https://colab.research.google.com/assets/colab-badge.svg\" alt=\"Open In Colab\"/></a>"
      ]
    },
    {
      "cell_type": "markdown",
      "source": [
        "# **LAB #08** - Modules\n",
        "<br/>\n"
      ],
      "metadata": {
        "id": "qdM8hjkwAnQ5"
      }
    },
    {
      "cell_type": "markdown",
      "source": [
        "><table>\n",
        "##**Lab Overview**\n",
        "\n",
        "These lab questions will help further your understanding of a new data structure - the Pandas DataFrame - available as an additional module in Python. From there, the resulting data will visually displayed using another module - matplotlib.<br/>\n",
        "\n",
        "The tasks presented will cover some of the different use cases for these concepts - but are not exhaustive - and you're recommended to further your understanding via the content on the LMS, research (e.g., Searching *how can I use files to ...*), and on-going development of personal projects.\n",
        "></table>\n",
        "\n",
        "<br/><br/>\n",
        "\n"
      ],
      "metadata": {
        "id": "ax351qT1A2wO"
      }
    },
    {
      "cell_type": "markdown",
      "source": [
        "\n",
        "\n",
        "## **Question #1** - Iris Dataset Manipulation\n",
        "---\n",
        "<br/>\n",
        "\n",
        "Here we will use two popular packages, `Pandas` & `matplotlib`, to manipulate, analyse, and display data from a famous 1936 dataset on irises:\n",
        "\n",
        ">*Fisher, R.A. (1936) The Use of Multiple Measurements in Taxonomic Problems. Annals of Eugenics, 7, 179-188.*\n",
        "\n",
        "<br/>"
      ],
      "metadata": {
        "id": "Ul0eUARrsGff"
      }
    },
    {
      "cell_type": "markdown",
      "source": [
        "### **Part A** - Simple Statistics\n",
        "\n",
        "The following code reads the csv file into a Pandas `DataFrame`.\n",
        "\n",
        "The ``head()`` method has been called on the DataFrame so you can see the data that will be used throughout this question.\n",
        "\n",
        "\n"
      ],
      "metadata": {
        "id": "r8S5cwYXfGmA"
      }
    },
    {
      "cell_type": "code",
      "source": [
        "# Student Name:\n",
        "# Student Number:\n",
        "\n",
        "import pandas as pd\n",
        "\n",
        "df = pd.read_csv(\"https://gist.githubusercontent.com/curran/a08a1080b88344b0c8a7/raw/0e7a9b0a5d22642a06d3d5b9bcbad9890c8ee534/iris.csv\")\n",
        "\n",
        "print(df.head())\n"
      ],
      "metadata": {
        "id": "9PP7YGX7odq2",
        "colab": {
          "base_uri": "https://localhost:8080/"
        },
        "outputId": "bfcdd5d2-8717-41ef-f15a-a9f807a4398f"
      },
      "execution_count": null,
      "outputs": [
        {
          "output_type": "stream",
          "name": "stdout",
          "text": [
            "   sepal_length  sepal_width  petal_length  petal_width species\n",
            "0           5.1          3.5           1.4          0.2  setosa\n",
            "1           4.9          3.0           1.4          0.2  setosa\n",
            "2           4.7          3.2           1.3          0.2  setosa\n",
            "3           4.6          3.1           1.5          0.2  setosa\n",
            "4           5.0          3.6           1.4          0.2  setosa\n"
          ]
        }
      ]
    },
    {
      "cell_type": "markdown",
      "source": [
        "#### **Your Task**\n",
        "\n",
        "Display the average statistics (all applicable attributes) for all three species of iris in one line."
      ],
      "metadata": {
        "id": "yaD7fQeBa60e"
      }
    },
    {
      "cell_type": "code",
      "source": [
        "# Student Name: Kyla Sofocado\n",
        "# Student Number: 1034672\n",
        "\n",
        "import matplotlib.pyplot as plt\n",
        "import pandas as pd\n",
        "\n",
        "df = pd.read_csv(\"https://gist.githubusercontent.com/curran/a08a1080b88344b0c8a7/raw/0e7a9b0a5d22642a06d3d5b9bcbad9890c8ee534/iris.csv\")\n",
        "\n",
        "print(df.head()) #Debug statement to show if the data is being read correctly.\n",
        "\n",
        "#Displaying the average statisics of all applicable attibutes for all three species of iris in one line.\n",
        "\"\"\"The three species in the csv file is setosa, versicolor, and virginica.\"\"\"\n",
        "print(\"\\n\")\n",
        "print(df.groupby(\"species\").mean()) #This displays the mean of all three species\n",
        "\n",
        "\"\"\"Since the GroupBy() method only takes data from a specified column, and ignores the duplicate values. Hence why only one of each row is displayed.\"\"\"\n",
        "\"\"\"Implementing the mean() method calculates the mean of all the values in the column.\"\"\"\n",
        "\n",
        "\n"
      ],
      "metadata": {
        "id": "PYtoxGICa0e_",
        "outputId": "4a7d3d8f-51f3-4690-ad0b-d22ba93da529",
        "colab": {
          "base_uri": "https://localhost:8080/",
          "height": 266
        }
      },
      "execution_count": 6,
      "outputs": [
        {
          "output_type": "stream",
          "name": "stdout",
          "text": [
            "   sepal_length  sepal_width  petal_length  petal_width species\n",
            "0           5.1          3.5           1.4          0.2  setosa\n",
            "1           4.9          3.0           1.4          0.2  setosa\n",
            "2           4.7          3.2           1.3          0.2  setosa\n",
            "3           4.6          3.1           1.5          0.2  setosa\n",
            "4           5.0          3.6           1.4          0.2  setosa\n",
            "\n",
            "\n",
            "            sepal_length  sepal_width  petal_length  petal_width\n",
            "species                                                         \n",
            "setosa             5.006        3.418         1.464        0.244\n",
            "versicolor         5.936        2.770         4.260        1.326\n",
            "virginica          6.588        2.974         5.552        2.026\n"
          ]
        },
        {
          "output_type": "execute_result",
          "data": {
            "text/plain": [
              "'Implementing the mean() method calculates the mean of all the values in the column.'"
            ],
            "application/vnd.google.colaboratory.intrinsic+json": {
              "type": "string"
            }
          },
          "metadata": {},
          "execution_count": 6
        }
      ]
    },
    {
      "cell_type": "markdown",
      "source": [
        "<br/>"
      ],
      "metadata": {
        "id": "nTFL8vnrpcv6"
      }
    },
    {
      "cell_type": "markdown",
      "source": [
        "### **Part B** - Calculated Data - Ratios\n",
        "\n",
        "Using the above Pandas `DataFrame`, you are to create two new columns, ``sepal_ratio`` and ``petal_ratio``\n",
        "\n",
        "These two ratios need to be added to the `DataFrame` `df` as two new columns with the names provided above.\n",
        "\n",
        "The ratios will be calculated via ``length/width``.\n",
        "\n",
        "Once these new columns have been added, call the ``head()`` method on the DataFrame to confirm the new data has been added.\n"
      ],
      "metadata": {
        "id": "2adHCIbImWAL"
      }
    },
    {
      "cell_type": "code",
      "source": [
        "#Calcuated Data - Ratios\n",
        "\n",
        "#Creating new columns: sepal_ratio and petal_ratio\n",
        "df[\"sepal_ratio\"] = df[\"sepal_length\"] / df[\"sepal_width\"]\n",
        "\"\"\"The new column sepal_ratio is created and stores the results of the division of sepal_length by sepal_width for each row.\"\"\"\n",
        "df[\"petal_ratio\"] = df[\"petal_length\"] / df[\"petal_width\"]\n",
        "\"\"\"The new column petal_ratio is created and stores the results of the division of petal_length by petal_width for each row.\"\"\"\n",
        "\n",
        "print(\"\\n\")\n",
        "print(df.head()) #Debug statement to show if the new columns are being created correctly."
      ],
      "metadata": {
        "id": "kZwOdhi0m84l",
        "outputId": "fbb91652-007c-4835-8b79-6f4e876ee097",
        "colab": {
          "base_uri": "https://localhost:8080/"
        }
      },
      "execution_count": 7,
      "outputs": [
        {
          "output_type": "stream",
          "name": "stdout",
          "text": [
            "\n",
            "\n",
            "   sepal_length  sepal_width  petal_length  petal_width species  sepal_ratio  \\\n",
            "0           5.1          3.5           1.4          0.2  setosa     1.457143   \n",
            "1           4.9          3.0           1.4          0.2  setosa     1.633333   \n",
            "2           4.7          3.2           1.3          0.2  setosa     1.468750   \n",
            "3           4.6          3.1           1.5          0.2  setosa     1.483871   \n",
            "4           5.0          3.6           1.4          0.2  setosa     1.388889   \n",
            "\n",
            "   petal_ratio  \n",
            "0          7.0  \n",
            "1          7.0  \n",
            "2          6.5  \n",
            "3          7.5  \n",
            "4          7.0  \n"
          ]
        }
      ]
    },
    {
      "cell_type": "markdown",
      "source": [
        "<br/>"
      ],
      "metadata": {
        "id": "JVJ0HzCqpeV0"
      }
    },
    {
      "cell_type": "markdown",
      "source": [
        "### **Part C** - Displaying the Data\n",
        "\n",
        "Using the Pandas `DataFrame` from the part above, plot the different types of iris with their petal length (x-axis) against their petal width (y-axis).\n",
        "\n",
        "This will require you to filter the data into three different DataFrames so that you can plot these Frames independently.\n",
        "\n",
        ">**Note:** There are *better* ways to do this if you want to do some research and make your code more efficient. However, this is not a requirement for this lab.\n",
        "\n",
        "<br/>\n",
        "\n",
        "You will also be required to add a title describing what the graph represents, x-axis and y-axis labels to define the data being shown, and lastly, a legend so it is clear which species each colour represents.\n",
        "\n",
        "> **Note:** Once again, feel free to add anything extra if you want to - or use your own colours/fonts/designs - as long as you have all these items, you can extend as much as you wish.\n",
        "\n"
      ],
      "metadata": {
        "id": "U6_P5pMEfKFO"
      }
    },
    {
      "cell_type": "code",
      "source": [
        "#Creating separate dataframes for each species\n",
        "\"\"\"This creates a dataframe that only takes values from each individual species in the original dataframe\"\"\"\n",
        "df1 = df[df[\"species\"] == \"setosa\"]\n",
        "df2 = df[df[\"species\"] == \"versicolor\"]\n",
        "df3 = df[df[\"species\"] == \"virginica\"]\n",
        "\n",
        "#Displaying petal length vs petal width into a scatter plot graph\n",
        "plt.title(\"Petal Length vs Petal Width amongst the three species of Iris\")\n",
        "plt.xlabel(\"Petal Length\")\n",
        "plt.ylabel(\"Petal Width\")\n",
        "plt.scatter(df1[\"petal_length\"], df1[\"petal_width\"], color = \"purple\", label = \"Setosa\")\n",
        "plt.scatter(df2[\"petal_length\"], df2[\"petal_width\"], color = \"yellow\", label = \"Versicolor\")\n",
        "plt.scatter(df3[\"petal_length\"], df3[\"petal_width\"], color = \"blue\", label = \"Virginica\")\n",
        "\n",
        "plt.legend() #Added legend for better clarity for viewer to show which species is which on the graph\n",
        "\n",
        "print(\"\\n\")\n",
        "plt.show()"
      ],
      "metadata": {
        "id": "_BtUiBKvfngQ",
        "outputId": "d98616cd-08d8-4cef-feda-7dd592b18037",
        "colab": {
          "base_uri": "https://localhost:8080/",
          "height": 508
        }
      },
      "execution_count": 8,
      "outputs": [
        {
          "output_type": "stream",
          "name": "stdout",
          "text": [
            "\n",
            "\n"
          ]
        },
        {
          "output_type": "display_data",
          "data": {
            "text/plain": [
              "<Figure size 640x480 with 1 Axes>"
            ],
            "image/png": "[encoded data removed]"
          },
          "metadata": {}
        }
      ]
    },
    {
      "cell_type": "markdown",
      "source": [
        "<br/><br/>"
      ],
      "metadata": {
        "id": "OgYl64VGbl5t"
      }
    },
    {
      "cell_type": "markdown",
      "source": [
        "## **Submission**\n",
        "---\n",
        "\n",
        "When you believe you have the program correctly working, please run the program and enter valid details for each program so that the output is apparent.\n",
        "<br/><br/>\n",
        "When you are ready to submit please\n",
        "\n",
        "*   go to `File` -> `Print` -> `Print PDF` and then upload and submit in the LMS.\n",
        "  *   feel free to also submit your artwork from question 1 to the LMS if you'd like to\n",
        "\n",
        "*   save your file to GitHub via: `File` -> `Save a copy in GitHub`\n"
      ],
      "metadata": {
        "id": "CxZ8SilaD9Gq"
      }
    }
  ]
}