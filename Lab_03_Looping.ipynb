{
  "nbformat": 4,
  "nbformat_minor": 0,
  "metadata": {
    "colab": {
      "provenance": [],
      "toc_visible": true,
      "include_colab_link": true
    },
    "kernelspec": {
      "name": "python3",
      "display_name": "Python 3"
    },
    "language_info": {
      "name": "python"
    }
  },
  "cells": [
    {
      "cell_type": "markdown",
      "metadata": {
        "id": "view-in-github",
        "colab_type": "text"
      },
      "source": [
        "<a href=\"https://colab.research.google.com/github/r3dkoi/CST182/blob/main/Lab_03_Looping.ipynb\" target=\"_parent\"><img src=\"https://colab.research.google.com/assets/colab-badge.svg\" alt=\"Open In Colab\"/></a>"
      ]
    },
    {
      "cell_type": "markdown",
      "source": [
        "# **LAB #03** - Looping\n",
        "<br/>\n"
      ],
      "metadata": {
        "id": "qdM8hjkwAnQ5"
      }
    },
    {
      "cell_type": "markdown",
      "source": [
        "><table>\n",
        "##**Lab Overview**\n",
        "\n",
        "These lab questions will help develop your understanding of how loops work and some of the applications where loops are used.  \n",
        "></table>\n",
        "\n",
        "<br/><br/>\n",
        "\n"
      ],
      "metadata": {
        "id": "ax351qT1A2wO"
      }
    },
    {
      "cell_type": "markdown",
      "source": [
        "# **Question #1** - Aggregates on User Input\n",
        "---\n",
        "<br/>\n",
        "\n",
        "Write a program that takes in from the user a list of marks until the user enters a negative number. Once this is done, the program should calculate and display\n",
        "\n",
        "\n",
        "\n",
        "1.   The number of marks\n",
        "2.   The highest mark\n",
        "3.   The lowest mark\n",
        "4.   The average of the marks\n",
        "\n",
        "(note: You cannot use the `max()` or `min()` functions)\n",
        "\n",
        "<br/>\n",
        "\n",
        "\n",
        "**<u>Example Run:</u>**<br/>\n",
        "Mark #1? **50**<br/>\n",
        "Mark #2? **60**<br/>\n",
        "Mark #3? **-1**<br/>\n",
        "Number of marks = 2<br/>\n",
        "Highest Mark = 60<br/>\n",
        "Lowest Mark = 50<br/>\n",
        "Average Mark = 55<br/>\n",
        "<br/>\n",
        "\n",
        "<Br/>\n",
        "\n",
        "><table>\n",
        "### BONUS\n",
        "---\n",
        "Try and add some validation into the program where if the user enters a mark over 100, a message is sent to the user that lets them know that the mark is invalid (and it doesn't add the mark to the statistics - the program just loops again to get another mark).\n",
        "</table>"
      ],
      "metadata": {
        "id": "f1kwJQuoLhE4"
      }
    },
    {
      "cell_type": "code",
      "source": [],
      "metadata": {
        "id": "v-i2qD-njkmf"
      },
      "execution_count": null,
      "outputs": []
    },
    {
      "cell_type": "markdown",
      "source": [
        "### Your Answer:"
      ],
      "metadata": {
        "id": "jxaY-33JMb77"
      }
    },
    {
      "cell_type": "code",
      "source": [
        "# Student Name: Kyla Sofocado\n",
        "# Student Number: 1034672\n",
        "\n",
        "# Add answer below this line\n",
        "# User input of marks\n",
        "while True:\n",
        "    try:\n",
        "        mark_one = int(input(\"Mark #1? \"))\n",
        "        if mark_one <= 0 or mark_one >= 100:\n",
        "            print(\"Mark is invalid, please put a mark that's less than 100.\")\n",
        "        else:\n",
        "            # If the input is valid, break the loop\n",
        "            break\n",
        "    except ValueError:\n",
        "        print(\"Please input a number.\")\n",
        "\n",
        "# After the valid mark_one is provided, ask for mark_two and mark_three\n",
        "mark_two = int(input(\"Mark #2? \"))\n",
        "mark_three = int(input(\"Mark #3? \"))\n",
        "\n",
        "# Combining marks into a list\n",
        "list_of_marks = [mark_one, mark_two, mark_three]\n",
        "\n",
        "# Number of marks calculation\n",
        "mark_counter = 0  # Keeps track of the no. of marks that are positive value\n",
        "new_list_of_marks = []  # Created empty list for only positive values\n",
        "for mark in list_of_marks:  # Checking if each mark is a positive value\n",
        "    if mark > 0:\n",
        "        mark_counter += 1  # Increments mark_counter to increase if a positive value is found\n",
        "        new_list_of_marks.append(mark)  # Adds only the positive values to the new list\n",
        "\n",
        "positive_list_of_marks = new_list_of_marks.copy()  # Duplicate copy of new_list_of_marks\n",
        "\n",
        "# Highest mark sorting\n",
        "new_list_of_marks.sort(reverse=True)  # Sorts original list from descending order\n",
        "highest_mark = new_list_of_marks.pop(0)  # Returns the value at index position 0\n",
        "\n",
        "# Lowest mark sorting\n",
        "new_list_of_marks.sort()  # Sorts original list from ascending order\n",
        "lowest_mark = new_list_of_marks.pop(0)\n",
        "\n",
        "# Average Mark calculation\n",
        "marks_sum = highest_mark + lowest_mark\n",
        "average_marks = marks_sum / len(positive_list_of_marks)  # Calculating the average\n",
        "\n",
        "# Display messages sections\n",
        "print(f\"Number of marks = {mark_counter}\")\n",
        "print(f\"Highest Mark = {highest_mark}\")\n",
        "print(f\"Lowest Mark = {lowest_mark}\")\n",
        "print(f\"Average Mark = {average_marks:.1f}\")"
      ],
      "metadata": {
        "id": "Wc7e2wC5McY0",
        "outputId": "10c3229a-2459-4aaa-9fc6-661f49cdbea9",
        "colab": {
          "base_uri": "https://localhost:8080/"
        }
      },
      "execution_count": 7,
      "outputs": [
        {
          "output_type": "stream",
          "name": "stdout",
          "text": [
            "Mark #1? 200\n",
            "Mark is invalid, please put a mark that's less than 100.\n",
            "Mark #1? 50\n",
            "Mark #2? 60\n",
            "Mark #3? -1\n",
            "Number of marks = 2\n",
            "Highest Mark = 60\n",
            "Lowest Mark = 50\n",
            "Average Mark = 55.0\n"
          ]
        }
      ]
    },
    {
      "cell_type": "markdown",
      "source": [
        "<Br/><br/>\n"
      ],
      "metadata": {
        "id": "McmLtW4vMjKn"
      }
    },
    {
      "cell_type": "markdown",
      "source": [
        "# **Question #2** - Interest Earning Calculator\n",
        "---\n",
        "\n",
        "<br/>\n",
        "\n",
        "Create a program that takes in details of a fixed-term interest saving account (initial balance, number of years, interest rate percentage) and creates a nicely formatted table that shows the details for each year. <br/><br/>\n",
        "\n",
        "\n",
        "**<u>Example Run:</u>**<br/>\n",
        "Balance? **100000**<br/>\n",
        "Years? **10**<br/>\n",
        "Interest Rate(%)? **5**<br/>\n",
        "```\n",
        "Year      Balance     Interest   Total Int.\n",
        "-------------------------------------------\n",
        "   1   105,000.00     5,000.00     5,000.00\n",
        "   2   110,250.00     5,250.00    10,250.00\n",
        "   3   115,762.50     5,512.50    15,762.50\n",
        "   4   121,550.62     5,788.12    21,550.62\n",
        "   5   127,628.16     6,077.53    27,628.16\n",
        "   6   134,009.56     6,381.41    34,009.56\n",
        "   7   140,710.04     6,700.48    40,710.04\n",
        "   8   147,745.54     7,035.50    47,745.54\n",
        "   9   155,132.82     7,387.28    55,132.82\n",
        "  10   162,889.46     7,756.64    62,889.46\n",
        "```\n",
        "\n",
        "<br/><br/>\n"
      ],
      "metadata": {
        "id": "9ML3CMJVBxuF"
      }
    },
    {
      "cell_type": "markdown",
      "source": [
        "### Your Answer:"
      ],
      "metadata": {
        "id": "gPCRbhBxGMN0"
      }
    },
    {
      "cell_type": "code",
      "execution_count": 8,
      "metadata": {
        "id": "LuZZ6MqZAkbS",
        "outputId": "c9de64fb-b185-42c0-9af2-36fb6f8cce50",
        "colab": {
          "base_uri": "https://localhost:8080/"
        }
      },
      "outputs": [
        {
          "output_type": "stream",
          "name": "stdout",
          "text": [
            "Years? 15\n",
            "Balance? 90000\n",
            "Interest Rate(%)? 2\n",
            "Year      Balance        Interest       Total Int.     \n",
            "-------------------------------------------------------\n",
            "1         90000.00       1800.00        1800.00        \n",
            "2         91800.00       1836.00        3636.00        \n",
            "3         93636.00       1872.72        5508.72        \n",
            "4         95508.72       1910.17        7418.89        \n",
            "5         97418.89       1948.38        9367.27        \n",
            "6         99367.27       1987.35        11354.62       \n",
            "7         101354.62      2027.09        13381.71       \n",
            "8         103381.71      2067.63        15449.34       \n",
            "9         105449.34      2108.99        17558.33       \n",
            "10        107558.33      2151.17        19709.50       \n",
            "11        109709.50      2194.19        21903.69       \n",
            "12        111903.69      2238.07        24141.76       \n",
            "13        114141.76      2282.84        26424.60       \n",
            "14        116424.60      2328.49        28753.09       \n",
            "15        118753.09      2375.06        31128.15       \n"
          ]
        }
      ],
      "source": [
        "# Student Name: Kyla Sofocado\n",
        "# Student Number: 1034672\n",
        "\n",
        "# Add answer below this line\n",
        "#User input\n",
        "number_of_years = int(input(\"Years? \"))\n",
        "starting_balance = int(input(\"Balance? \"))\n",
        "starting_interest_rate = int(input(\"Interest Rate(%)? \"))\n",
        "\n",
        "#Headings and Divider section\n",
        "year_heading = \"Year\"\n",
        "balance_heading = \"Balance\"\n",
        "interest_heading = \"Interest\"\n",
        "total_interest_heading = \"Total Int.\"\n",
        "divider = \"-\"\n",
        "\n",
        "the_headings = f\"{year_heading:<10}{balance_heading:<15}{interest_heading:<15}{total_interest_heading:<15}\" #Added modifiers to f-string for specific character widths\n",
        "\n",
        "print(the_headings)\n",
        "print(divider * 55)\n",
        "\n",
        "#Initialise variables\n",
        "year = 1\n",
        "balance = starting_balance\n",
        "total_interest = 0\n",
        "\n",
        "#Calculate and print each year's details\n",
        "while year <= number_of_years: #loop continues based on user's input\n",
        "    interest_rate = balance * (starting_interest_rate / 100)\n",
        "    total_interest += interest_rate #Adds value of total_interest to interest_rate\n",
        "\n",
        "    print(f\"{year:<10}{balance:<15.2f}{interest_rate:<15.2f}{total_interest:<15.2f}\") #Prints output with specific character widths and rounds to 2 decimal places\n",
        "\n",
        "    balance += interest_rate #Adds the value of interest_rate and balance together for each iteration\n",
        "    year += 1 #Increments year by one until it equals to user input value\n",
        "\n",
        "\n",
        "\n"
      ]
    },
    {
      "cell_type": "markdown",
      "source": [
        "<br/><br/>\n"
      ],
      "metadata": {
        "id": "gPpEwbJeD_qb"
      }
    },
    {
      "cell_type": "markdown",
      "source": [
        "# **Submission**\n",
        "---\n",
        "\n",
        "When you believe you have the program correctly working, please run the program and enter valid details for each program so that the output is apparent.\n",
        "<br/><br/>\n",
        "When you are ready to submit please\n",
        "\n",
        "*   go to `File` -> `Print` -> `Print PDF` and then upload and submit in the LMS.\n",
        "*   save your file to GitHub via: `File` -> `Save a copy in GitHub`\n"
      ],
      "metadata": {
        "id": "CxZ8SilaD9Gq"
      }
    }
  ]
}