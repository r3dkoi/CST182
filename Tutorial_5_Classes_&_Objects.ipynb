{
  "nbformat": 4,
  "nbformat_minor": 0,
  "metadata": {
    "colab": {
      "provenance": [],
      "include_colab_link": true
    },
    "kernelspec": {
      "name": "python3",
      "display_name": "Python 3"
    },
    "language_info": {
      "name": "python"
    }
  },
  "cells": [
    {
      "cell_type": "markdown",
      "metadata": {
        "id": "view-in-github",
        "colab_type": "text"
      },
      "source": [
        "<a href=\"https://colab.research.google.com/github/r3dkoi/CST182/blob/main/Tutorial_5_Classes_%26_Objects.ipynb\" target=\"_parent\"><img src=\"https://colab.research.google.com/assets/colab-badge.svg\" alt=\"Open In Colab\"/></a>"
      ]
    },
    {
      "cell_type": "markdown",
      "source": [
        "# **TUTORIAL #5 - CLASSES & OBJECTS**\n",
        "<br/>\n",
        "\n",
        "\n",
        "\n",
        "\n",
        "\n"
      ],
      "metadata": {
        "id": "h7roITOPgVZ6"
      }
    },
    {
      "cell_type": "markdown",
      "source": [
        "In this tutorial, we will be revise the main topics covered in classes & objects.\n",
        "\n",
        "> **Note:** *For a comprehensive understanding please refer to the materials on the LMS*"
      ],
      "metadata": {
        "id": "j39qU2KEJ8Uu"
      }
    },
    {
      "cell_type": "markdown",
      "source": [
        "## **#1. Introduction to Classes & Objects**\n",
        "---\n",
        "\n",
        "Classes allow us to create a blueprint for 'things' that we want to use in our software - and allow us to store variables and create methods in a contained way (encapsulation).\n",
        "\n"
      ],
      "metadata": {
        "id": "-GAXHau1oAMK"
      }
    },
    {
      "cell_type": "markdown",
      "source": [
        "### **1.1 Creation**\n",
        "\n",
        "\n",
        "For example, if we wanted to create a function for drawing squares or triangles\n",
        "\n",
        ">**Note:** *The `__init__()` function is required when creating new objects.*\n"
      ],
      "metadata": {
        "id": "qSCvRsOrqpIy"
      }
    },
    {
      "cell_type": "code",
      "source": [
        "class Car:\n",
        "  def __init__(self,make, model):\n",
        "    self.make = make\n",
        "    self.model = model\n",
        "    self.speed = 0\n"
      ],
      "metadata": {
        "id": "DgwXIM5EplUY"
      },
      "execution_count": null,
      "outputs": []
    },
    {
      "cell_type": "markdown",
      "source": [
        ">**Note:** *The `self` references the current instance of the class*\n",
        "\n",
        "<br/>\n",
        "\n",
        "We can then create objects from this class and then use them (in this case, accessing and displaying a variable value)"
      ],
      "metadata": {
        "id": "gz7QKLtnW33P"
      }
    },
    {
      "cell_type": "code",
      "source": [
        "car1 = Car(\"Toyota\", \"Supra\")\n",
        "car2 = Car(\"Ford\", \"Wildtrek\")\n",
        "\n",
        "print(car1.make)\n",
        "print(car2.make)"
      ],
      "metadata": {
        "colab": {
          "base_uri": "https://localhost:8080/"
        },
        "id": "bzfPm2FmW3Tq",
        "outputId": "f48d9414-76ae-40be-a542-6f54880492ec"
      },
      "execution_count": null,
      "outputs": [
        {
          "output_type": "stream",
          "name": "stdout",
          "text": [
            "Toyota\n",
            "Ford\n"
          ]
        }
      ]
    },
    {
      "cell_type": "markdown",
      "source": [
        "<br/>"
      ],
      "metadata": {
        "id": "gMXCcvYjLxMI"
      }
    },
    {
      "cell_type": "markdown",
      "source": [
        "### **1.2 Updating**\n",
        "\n",
        "We can update values of an object by simply assigning the property a value"
      ],
      "metadata": {
        "id": "Vc9KXVxX54BY"
      }
    },
    {
      "cell_type": "code",
      "source": [
        "print(car1.make)\n",
        "car1.make = \"Honda\"\n",
        "print(car1.make)"
      ],
      "metadata": {
        "colab": {
          "base_uri": "https://localhost:8080/"
        },
        "id": "PB3oVuwK5_tU",
        "outputId": "a4cb0d0a-b6b5-43c3-f132-7991df4eb9e0"
      },
      "execution_count": null,
      "outputs": [
        {
          "output_type": "stream",
          "name": "stdout",
          "text": [
            "Toyota\n",
            "Honda\n"
          ]
        }
      ]
    },
    {
      "cell_type": "markdown",
      "source": [
        ">**Note:** *If you assign a property that does not exist, then it will create it for the object*\n",
        "\n",
        "<br/>"
      ],
      "metadata": {
        "id": "O4KrCVRFI2Ns"
      }
    },
    {
      "cell_type": "markdown",
      "source": [
        "### **1.3 Deleting**\n",
        "\n",
        "We can delete an ***attribute*** via `del`"
      ],
      "metadata": {
        "id": "Kzzu_1m56WJ_"
      }
    },
    {
      "cell_type": "code",
      "source": [
        "del car1.make\n",
        "\n",
        "print(car1.mark)"
      ],
      "metadata": {
        "colab": {
          "base_uri": "https://localhost:8080/",
          "height": 184
        },
        "id": "tg3nCHAd6cmX",
        "outputId": "55284015-584b-450c-876f-5f2ba78c3752"
      },
      "execution_count": null,
      "outputs": [
        {
          "output_type": "error",
          "ename": "AttributeError",
          "evalue": "ignored",
          "traceback": [
            "\u001b[0;31m---------------------------------------------------------------------------\u001b[0m",
            "\u001b[0;31mAttributeError\u001b[0m                            Traceback (most recent call last)",
            "\u001b[0;32m<ipython-input-10-d6a9fbe878bc>\u001b[0m in \u001b[0;36m<module>\u001b[0;34m()\u001b[0m\n\u001b[1;32m      1\u001b[0m \u001b[0;32mdel\u001b[0m \u001b[0mcar1\u001b[0m\u001b[0;34m.\u001b[0m\u001b[0mmake\u001b[0m\u001b[0;34m\u001b[0m\u001b[0;34m\u001b[0m\u001b[0m\n\u001b[0;32m----> 2\u001b[0;31m \u001b[0mprint\u001b[0m\u001b[0;34m(\u001b[0m\u001b[0mcar1\u001b[0m\u001b[0;34m.\u001b[0m\u001b[0mmark\u001b[0m\u001b[0;34m)\u001b[0m\u001b[0;34m\u001b[0m\u001b[0;34m\u001b[0m\u001b[0m\n\u001b[0m",
            "\u001b[0;31mAttributeError\u001b[0m: 'Car' object has no attribute 'mark'"
          ]
        }
      ]
    },
    {
      "cell_type": "markdown",
      "source": [
        "<br/>\n",
        "\n",
        "or delete the ***object*** entirely"
      ],
      "metadata": {
        "id": "ezWsf3HM6nVG"
      }
    },
    {
      "cell_type": "code",
      "source": [
        "del car1\n",
        "print(car1)"
      ],
      "metadata": {
        "colab": {
          "base_uri": "https://localhost:8080/",
          "height": 184
        },
        "id": "NuvPDOhj6mRY",
        "outputId": "a1c71c29-16b2-488d-f673-7a96cea19903"
      },
      "execution_count": null,
      "outputs": [
        {
          "output_type": "error",
          "ename": "NameError",
          "evalue": "ignored",
          "traceback": [
            "\u001b[0;31m---------------------------------------------------------------------------\u001b[0m",
            "\u001b[0;31mNameError\u001b[0m                                 Traceback (most recent call last)",
            "\u001b[0;32m<ipython-input-13-4bfae72739f0>\u001b[0m in \u001b[0;36m<module>\u001b[0;34m()\u001b[0m\n\u001b[1;32m      1\u001b[0m \u001b[0;32mdel\u001b[0m \u001b[0mcar1\u001b[0m\u001b[0;34m\u001b[0m\u001b[0;34m\u001b[0m\u001b[0m\n\u001b[0;32m----> 2\u001b[0;31m \u001b[0mprint\u001b[0m\u001b[0;34m(\u001b[0m\u001b[0mcar1\u001b[0m\u001b[0;34m)\u001b[0m\u001b[0;34m\u001b[0m\u001b[0;34m\u001b[0m\u001b[0m\n\u001b[0m",
            "\u001b[0;31mNameError\u001b[0m: name 'car1' is not defined"
          ]
        }
      ]
    },
    {
      "cell_type": "markdown",
      "source": [
        "<br/>"
      ],
      "metadata": {
        "id": "zEuJMXaKJFl_"
      }
    },
    {
      "cell_type": "markdown",
      "source": [
        "### **1.4 Object Methods**\n",
        "\n",
        "We can add methods to our objects by listing them in the class definition.\n",
        "\n",
        "Here we will create two methods\n",
        "* the first will list the car properties (`printCar()`)\n",
        "* the second will accelerate the car (`accelerate()`)\n",
        "\n",
        "\n",
        "Anytime we need to reference values in the object itself, we need to access it via the `self` variable."
      ],
      "metadata": {
        "id": "Axy73w5TXLtC"
      }
    },
    {
      "cell_type": "code",
      "source": [
        "class Car:\n",
        "\n",
        "  def __init__(self,make, model):\n",
        "    self.make = make\n",
        "    self.model = model\n",
        "    self.speed = 0\n",
        "\n",
        "  def printCar(self):\n",
        "    print(f\"{self.make:10s}{self.model:10s}:{self.speed:5d}\")\n",
        "\n",
        "  def accelerate(self, amt):\n",
        "    print(f\"\\nAccelerating {self.make} by {amt}\")\n",
        "    self.speed += amt\n",
        "\n",
        "\n",
        "car1 = Car(\"Toyota\", \"Supra\")\n",
        "car2 = Car(\"Ford\", \"Wildtrek\")\n",
        "\n",
        "car1.printCar()\n",
        "car2.printCar()\n",
        "\n",
        "car1.accelerate(5)\n",
        "\n",
        "car1.printCar()\n",
        "car2.printCar()\n",
        "\n",
        "car2.accelerate(10)\n",
        "car2.accelerate(10)\n",
        "\n",
        "car1.printCar()\n",
        "car2.printCar()\n"
      ],
      "metadata": {
        "colab": {
          "base_uri": "https://localhost:8080/"
        },
        "id": "eoYUEymiXbC5",
        "outputId": "0c5a2234-0c56-4cb9-ed07-517c54de60f5"
      },
      "execution_count": null,
      "outputs": [
        {
          "output_type": "stream",
          "name": "stdout",
          "text": [
            "Toyota    Supra     :    0\n",
            "Ford      Wildtrek  :    0\n",
            "\n",
            "Accelerating Toyota by 5\n",
            "Toyota    Supra     :    5\n",
            "Ford      Wildtrek  :    0\n",
            "\n",
            "Accelerating Ford by 10\n",
            "\n",
            "Accelerating Ford by 10\n",
            "Toyota    Supra     :    5\n",
            "Ford      Wildtrek  :   20\n"
          ]
        }
      ]
    },
    {
      "cell_type": "markdown",
      "source": [
        "<br/>"
      ],
      "metadata": {
        "id": "7sFjHRkrptRJ"
      }
    },
    {
      "cell_type": "markdown",
      "source": [],
      "metadata": {
        "id": "as1P-68KL-G8"
      }
    },
    {
      "cell_type": "markdown",
      "source": [
        "\n",
        "##  **#2.YOUR TURN**\n",
        "---"
      ],
      "metadata": {
        "id": "LTfa8ImBtsha"
      }
    },
    {
      "cell_type": "markdown",
      "source": [
        "### **Program #1 |** A Simple Student Class\n",
        "---\n",
        "\n",
        "\n",
        "In this program we will create a simple student class and a few objects.\n",
        "<br/><br/>\n",
        "\n",
        "The student class should have the following:\n",
        "\n",
        "**Properties**\n",
        "* `name` the name of the student\n",
        "* `marks` a list of final marks the student has been awarded\n",
        "\n",
        "\n",
        "**Methods**\n",
        "* `add_mark()` which takes a single value and adds it to the list of marks\n",
        "* `calculate_GPA()` which gets the average from the list of marks\n",
        "* `print_student()` which nicely prints a transcript for the student (name, marks, GPA)\n",
        "\n"
      ],
      "metadata": {
        "id": "2uifW04Is2EE"
      }
    },
    {
      "cell_type": "code",
      "source": [
        "# Student Name:   KYLA SOFOCADO\n",
        "# Student Number: 1034672\n",
        "\n",
        "class Student:\n",
        "   \"\"\"Properties of the class incude:\n",
        "    name = string\n",
        "    marks = a list of integers\n",
        "    \"\"\"\n",
        "   def __init__(self, name, marks): #Creates instance for each student\n",
        "      self.name = name\n",
        "      self.marks = marks\n",
        "\n",
        "   #Methods section\n",
        "   def add_mark(self): #Takes a single value and adds it to the list of marks\n",
        "         new_mark = int(input(\"Enter a new mark:\"))\n",
        "         self.marks.append(new_mark) #appends to the list of marks in the student instance\n",
        "         print(f\"New mark added: to {self.name}'s list of marks: {self.marks}\")\n",
        "\n",
        "   def calculate_GPA(self): #Calculates the GPA of the student\n",
        "      total = sum(self.marks)\n",
        "      average = total/len(self.marks)\n",
        "      print(f\"{self.name}'s GPA is: {average}\")\n",
        "\n",
        "   def student_transcripts(self): #Prints out the student name and their new list of marks\n",
        "      print(f\"Student Name: {self.name}\")\n",
        "      print(f\"Marks: {self.marks}\")\n",
        "      print(f\"GPA: {sum(self.marks)/len(self.marks)}\")\n",
        "\n",
        "#Student Instances section\n",
        "student1 = Student(\"Alice\", [85, 90, 78, 92])\n",
        "student2 = Student(\"Bob\", [75, 80, 85, 79])\n",
        "student3 = Student(\"Charlie\", [88, 92, 94, 89])\n",
        "student4 = Student(\"David\", [70, 65, 80, 74])\n",
        "student5 = Student(\"Emma\", [95, 98, 97, 96])\n",
        "student6 = Student(\"Frank\", [60, 55, 70, 65])\n",
        "student7 = Student(\"Grace\", [82, 87, 85, 90])\n",
        "student8 = Student(\"Hannah\", [90, 88, 84, 91])\n",
        "student9 = Student(\"Ian\", [78, 80, 76, 79])\n",
        "student10 = Student(\"Jack\", [85, 82, 88, 86])\n",
        "\n",
        "#User Menu section\n",
        "def main():\n",
        "      students = [student1, student2, student3, student4, student5,\n",
        "                  student6, student7, student8, student9, student10] #List of the students in Student Class\n",
        "\n",
        "      print(\"The students currently under your class: \")\n",
        "      for i, student in enumerate(students, start = 1):\n",
        "           print(f\"{i}. {student.name}\") #Creates a descending numbered list of the students from the Students instances section. Begins at index 1.\n",
        "\n",
        "      while True:\n",
        "               try:\n",
        "                    choice = int(input(\"Enter the corresponding number from the list above to access their records: \"))\n",
        "                    if 1 <= choice <= len(students): #Checks if choice is within the length of the list of students\n",
        "                        \"\"\"Each student has a list of marks and the user can choose to add a mark, calculate their GPA or print their transcript\"\"\"\n",
        "                        selected_student = students[choice - 1] #Subtracts 1 from the choice to get the index of the student in the list\n",
        "                        print(\"1. Add a mark\")\n",
        "                        print(\"2. Calculate their GPA\")\n",
        "                        print(\"3. Print their transcript\")\n",
        "                        print(\"4. Exit the entire program\")\n",
        "\n",
        "                        option = int(input(\"Enter the corresponding number to choose an option: \"))\n",
        "                        if option == 1:\n",
        "                              selected_student.add_mark()\n",
        "                        elif option == 2:\n",
        "                              selected_student.calculate_GPA()\n",
        "                        elif option == 3:\n",
        "                              selected_student.student_transcripts()\n",
        "                        elif option == 4:\n",
        "                              break\n",
        "                        else:\n",
        "                              print(\"Invalid option. Please try again.\")\n",
        "               except ValueError:\n",
        "                  print(\"Please only input numbers, not letters or symbols.\")\n",
        "\n",
        "\n",
        "\n",
        "# Debugging statements\n",
        "student1.student_transcripts() #Shows that it prints out the student's name and marks\n",
        "student1.add_mark()\n",
        "student1.calculate_GPA()\n",
        "\n",
        "#Calling the main function\n",
        "main()\n",
        "\n",
        "\n",
        "\n",
        "\n",
        "\n"
      ],
      "metadata": {
        "id": "6_CTo-8Rjbu3",
        "outputId": "d37a1e28-ee41-44e6-ac67-f76c05a14eda",
        "colab": {
          "base_uri": "https://localhost:8080/"
        }
      },
      "execution_count": 10,
      "outputs": [
        {
          "output_type": "stream",
          "name": "stdout",
          "text": [
            "Student Name: Alice\n",
            "Marks: [85, 90, 78, 92]\n"
          ]
        }
      ]
    },
    {
      "cell_type": "markdown",
      "source": [
        "<br/><BR/>"
      ],
      "metadata": {
        "id": "T1VrXym6tjGs"
      }
    },
    {
      "cell_type": "markdown",
      "source": [
        "### **Submission**\n",
        "---\n",
        "\n",
        "When you believe you have the program correctly working, please run the program and enter valid details for height and weight (you don't need to use your own if you do not want to) to get the output of BMI to show.\n",
        "<br/><br/>\n",
        "When you are ready to submit please go to `File` -> `Print` -> `Print PDF` and then upload and submit in the LMS.\n",
        "\n",
        "Please save your file to GitHub via: `File` -> `Save a copy in GitHub`"
      ],
      "metadata": {
        "id": "N-XTusSvusCo"
      }
    }
  ]
}