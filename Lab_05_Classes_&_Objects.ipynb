{
  "nbformat": 4,
  "nbformat_minor": 0,
  "metadata": {
    "colab": {
      "provenance": [],
      "toc_visible": true,
      "include_colab_link": true
    },
    "kernelspec": {
      "name": "python3",
      "display_name": "Python 3"
    },
    "language_info": {
      "name": "python"
    }
  },
  "cells": [
    {
      "cell_type": "markdown",
      "metadata": {
        "id": "view-in-github",
        "colab_type": "text"
      },
      "source": [
        "<a href=\"https://colab.research.google.com/github/r3dkoi/CST182/blob/main/Lab_05_Classes_%26_Objects.ipynb\" target=\"_parent\"><img src=\"https://colab.research.google.com/assets/colab-badge.svg\" alt=\"Open In Colab\"/></a>"
      ]
    },
    {
      "cell_type": "markdown",
      "source": [
        "# **LAB #05** - Classes & Objects\n",
        "<br/>\n"
      ],
      "metadata": {
        "id": "qdM8hjkwAnQ5"
      }
    },
    {
      "cell_type": "markdown",
      "source": [
        "><table>\n",
        "##**Lab Overview**\n",
        "\n",
        "These lab questions will help develop your understanding of how to set up classes and create objects.\n",
        "\n",
        "></table>\n",
        "\n",
        "<br/><br/>\n",
        "\n"
      ],
      "metadata": {
        "id": "ax351qT1A2wO"
      }
    },
    {
      "cell_type": "markdown",
      "source": [
        "\n",
        "\n",
        "# **Question #1** - Classes & Objects\n",
        "---\n",
        "<br/>\n",
        "\n",
        "This question will be split across a few different parts to get you to concentrate on specific class functionalities as you progress.<br/><br/>\n",
        "\n",
        "\n",
        "If you get stuck on a part, it is advised to seek help before continuing to the next part as later tasks may be dependent on earlier ones.\n",
        "\n",
        "<br/>\n",
        "\n"
      ],
      "metadata": {
        "id": "Ul0eUARrsGff"
      }
    },
    {
      "cell_type": "markdown",
      "source": [
        "## **Part A** - Creating the Class\n",
        "---\n",
        "\n",
        "In this question, You've been provided the code for creating three student objects. <br/><br/>\n",
        "\n",
        "### Your Task\n",
        "\n",
        "Write the class definition to take in the values provided for the students (name, age, major) and set these values in the class.\n",
        "\n",
        "<br/>\n"
      ],
      "metadata": {
        "id": "1o-fVr9P6xLt"
      }
    },
    {
      "cell_type": "markdown",
      "source": [
        "### Your Answer\n",
        "\n",
        "\n"
      ],
      "metadata": {
        "id": "sedot7JUuhD2"
      }
    },
    {
      "cell_type": "code",
      "source": [
        "# Student Name: Kyla Sofocado\n",
        "# Student Number: 1034672\n",
        "\n",
        "# TODO: Insert class definition:\n",
        "class Student:\n",
        "  \"\"\"Properties include:\n",
        "  name = string\n",
        "  age = int\n",
        "  subject major = string\"\"\"\n",
        "\n",
        "  def __init__(self, name, age, subject_major): #Creates an instance specifically for each student\n",
        "    self.name = name\n",
        "    self.age = age\n",
        "    self.subject_major = subject_major\n",
        "\n",
        "\n",
        "# Object Creation\n",
        "\"\"\"S1, S2, S3 represent different students\"\"\"\n",
        "\n",
        "s1 = Student(\"Greg\", 21, \"Computer Science\")\n",
        "s2 = Student(\"Lucy\", 34, \"Engineering\")\n",
        "s3 = Student(\"Chris\", 19, \"Arts\")\n",
        "\n",
        "# TODO: Print the three objects to test\n",
        "print(f\"Student Name: {s1.name} \\nAge: {s1.age} \\nMajoring in: {s1.subject_major}\")\n",
        "print(\"\\n\")\n",
        "print(f\"Student Name: {s2.name} \\nAge: {s2.age} \\nMajoring in: {s2.subject_major}\")\n",
        "print(\"\\n\")\n",
        "print(f\"Studenmt Name: {s3.name} \\nAge: {s3.age} \\nMajoring in: {s3.subject_major}\")"
      ],
      "metadata": {
        "id": "9PP7YGX7odq2",
        "outputId": "2c1601da-3fd8-4f97-9ff4-0af22e94ebda",
        "colab": {
          "base_uri": "https://localhost:8080/"
        }
      },
      "execution_count": 10,
      "outputs": [
        {
          "output_type": "stream",
          "name": "stdout",
          "text": [
            "Student Name: Greg \n",
            "Age: 21 \n",
            "Majoring in: Computer Science\n",
            "\n",
            "\n",
            "Student Name: Lucy \n",
            "Age: 34 \n",
            "Majoring in: Engineering\n",
            "\n",
            "\n",
            "Studenmt Name: Chris \n",
            "Age: 19 \n",
            "Majoring in: Arts\n"
          ]
        }
      ]
    },
    {
      "cell_type": "markdown",
      "source": [
        "<Br/><br/>"
      ],
      "metadata": {
        "id": "QFxRj-X-yFdh"
      }
    },
    {
      "cell_type": "markdown",
      "source": [
        "## **Part B** - Addition of a Class Method\n",
        "---\n",
        "\n",
        "Here we will be looking at adding class methods to the program.<br/><br/>\n",
        "\n",
        "### Your Task\n",
        "\n",
        "Copy your code from Part A and paste it into the code block below and remove the `print()` statements that we used to test the objects.<br/><br/>\n",
        "Next, you need to extend the program to include two class functions as described below:<br/><br/>\n",
        "\n",
        "* **Function 1 | Printing Information**<br/>\n",
        "Add a function that nicely prints out the information for each student providing the variable value and what it represents (e.g, `name = Greg`)<br/><br/>\n",
        "\n",
        "* **Function 2 | Birth year?**<br/>\n",
        "The second function you need to create simply takes the student's age and from there, calculates and returns their birth year (ignore specific day/month) <br/><br/>\n",
        "><small>**Note:** You can simply hardcode the current year into the program - but feel free to extend yourself by making use of the `datetime` module</small>\n",
        "\n",
        "\n",
        "\n",
        "\n",
        "<br/>\n"
      ],
      "metadata": {
        "id": "DLlsIPyy7PBr"
      }
    },
    {
      "cell_type": "markdown",
      "source": [
        "### Your Answer"
      ],
      "metadata": {
        "id": "FLqsaUEC_g7E"
      }
    },
    {
      "cell_type": "code",
      "source": [
        "# Student Name: Kyla Sofocado\n",
        "# Student Number: 1034672\n",
        "\n",
        "import datetime\n",
        "\n",
        "# TODO: Insert class definition:\n",
        "class Student:\n",
        "\n",
        "  \"\"\"Properties include:\n",
        "  name = string\n",
        "  age = int\n",
        "  subject major = string\"\"\"\n",
        "\n",
        "  def __init__(self, name, age, subject_major): #Creates an instance specifically for each student\n",
        "    self.name = name\n",
        "    self.age = age\n",
        "    self.subject_major = subject_major\n",
        "\n",
        "  def student_birthyear(self):\n",
        "        current_year = datetime.datetime.now().year\n",
        "        birth_year = current_year - self.age\n",
        "        return birth_year\n",
        "\n",
        "  def student_transcript(self):  #Prints out the name, age, and subject major in a neat format\n",
        "    print(f\"Student Name: {self.name} \\nAge: {self.age} \\nSubject Major: {self.subject_major} \\nBirth Year: {self.student_birthyear()}\")\n",
        "    print() #Prints a blank to separate the next student's transcript.\n",
        "\n",
        "\n",
        "# Object Creation\n",
        "    \"\"\"S1, S2, S3 represent different students\"\"\"\n",
        "s1 = Student(\"Greg\", 21, \"Computer Science\")\n",
        "s2 = Student(\"Lucy\", 34, \"Engineering\")\n",
        "s3 = Student(\"Chris\", 19, \"Arts\")\n",
        "\n",
        "#Calling functions\n",
        "s1.student_transcript()\n",
        "s2.student_transcript()\n",
        "s3.student_transcript()"
      ],
      "metadata": {
        "id": "3DESmazg7u-M",
        "outputId": "666876ef-ea34-4a48-dfb7-6194401cf30f",
        "colab": {
          "base_uri": "https://localhost:8080/"
        }
      },
      "execution_count": 24,
      "outputs": [
        {
          "output_type": "stream",
          "name": "stdout",
          "text": [
            "Student Name: Greg \n",
            "Age: 21 \n",
            "Subject Major: Computer Science \n",
            "Birth Year: 2004\n",
            "\n",
            "Student Name: Lucy \n",
            "Age: 34 \n",
            "Subject Major: Engineering \n",
            "Birth Year: 1991\n",
            "\n",
            "Student Name: Chris \n",
            "Age: 19 \n",
            "Subject Major: Arts \n",
            "Birth Year: 2006\n",
            "\n"
          ]
        }
      ]
    },
    {
      "cell_type": "markdown",
      "source": [
        "<br/><br/>"
      ],
      "metadata": {
        "id": "smBNf2JC7yzD"
      }
    },
    {
      "cell_type": "markdown",
      "source": [
        "## **Part C** - Moving to a List of Objects\n",
        "---\n",
        "\n",
        "Here we will be looking at moving our Student objects into a list to make the program more efficient.<br/><br/>\n",
        "\n",
        "### Your Task\n",
        "\n",
        "Copy your code from Part B and paste it into the code block below.<br/><br/>\n",
        "Next, you need to modify the program to:\n",
        "\n",
        "1. Move the three student objects so they are held within a list\n",
        "2. Add a loop to iterate through the list of objects and execute both functions\n",
        "3. Add (at least) one more record to the list with your own data\n",
        "<br/><br/>\n",
        "\n"
      ],
      "metadata": {
        "id": "3IHb76Mr-Hdj"
      }
    },
    {
      "cell_type": "markdown",
      "source": [
        "### Your Answer"
      ],
      "metadata": {
        "id": "SCY_xtUk_h-e"
      }
    },
    {
      "cell_type": "code",
      "source": [
        "# Student Name: Kyla Sofocado\n",
        "# Student Number: 1034672\n",
        "\n",
        "import datetime\n",
        "\n",
        "# TODO: Insert class definition:\n",
        "class Student:\n",
        "\n",
        "  \"\"\"Properties include:\n",
        "  name = string\n",
        "  age = int\n",
        "  subject major = string\"\"\"\n",
        "\n",
        "  def __init__(self, name, age, subject_major): #Creates an instance specifically for each student\n",
        "    self.name = name\n",
        "    self.age = age\n",
        "    self.subject_major = subject_major\n",
        "\n",
        "  def student_birthyear(self):\n",
        "        current_year = datetime.datetime.now().year\n",
        "        birth_year = current_year - self.age\n",
        "        return birth_year\n",
        "\n",
        "  def student_transcript(self):  #Prints out the name, age, and subject major in a neat format\n",
        "    print(f\"Student Name: {self.name} \\nAge: {self.age} \\nSubject Major: {self.subject_major} \\nBirth Year: {self.student_birthyear()}\")\n",
        "    print() #Prints a blank to separate the next student's transcript.\n",
        "\n",
        "# Object Creation\n",
        "    \"\"\"S1, S2, S3 represent different students\"\"\"\n",
        "s1 = Student(\"Greg\", 21, \"Computer Science\")\n",
        "s2 = Student(\"Lucy\", 34, \"Engineering\")\n",
        "s3 = Student(\"Chris\", 19, \"Arts\")\n",
        "s4 = Student(\"Kyla\", 24, \"Computer Science\")\n",
        "\n",
        "#Calling functions\n",
        "students = [s1, s2, s3, s4]\n",
        "student = Student\n",
        "\n",
        "for student in students:\n",
        "  student.student_transcript()\n",
        "\n",
        "\n"
      ],
      "metadata": {
        "id": "9_OmC1dG_KV3",
        "colab": {
          "base_uri": "https://localhost:8080/"
        },
        "outputId": "5aef2e52-19b2-4cea-8c76-e9e3367af623"
      },
      "execution_count": 30,
      "outputs": [
        {
          "output_type": "stream",
          "name": "stdout",
          "text": [
            "Student Name: Greg \n",
            "Age: 21 \n",
            "Subject Major: Computer Science \n",
            "Birth Year: 2004\n",
            "\n",
            "Student Name: Lucy \n",
            "Age: 34 \n",
            "Subject Major: Engineering \n",
            "Birth Year: 1991\n",
            "\n",
            "Student Name: Chris \n",
            "Age: 19 \n",
            "Subject Major: Arts \n",
            "Birth Year: 2006\n",
            "\n",
            "Student Name: Kyla \n",
            "Age: 24 \n",
            "Subject Major: Computer Science \n",
            "Birth Year: 2001\n",
            "\n"
          ]
        }
      ]
    },
    {
      "cell_type": "markdown",
      "source": [
        "<br/><br/>"
      ],
      "metadata": {
        "id": "Bc2gMp6g_MoO"
      }
    },
    {
      "cell_type": "markdown",
      "source": [
        "# **Submission**\n",
        "---\n",
        "\n",
        "When you believe you have the program correctly working, please run the program and enter valid details for each program so that the output is apparent.\n",
        "<br/><br/>\n",
        "When you are ready to submit please\n",
        "\n",
        "*   go to `File` -> `Print` -> `Print PDF` and then upload and submit in the LMS.\n",
        "  *   feel free to also submit your artwork from question 1 to the LMS if you'd like to\n",
        "\n",
        "*   save your file to GitHub via: `File` -> `Save a copy in GitHub`\n"
      ],
      "metadata": {
        "id": "CxZ8SilaD9Gq"
      }
    }
  ]
}