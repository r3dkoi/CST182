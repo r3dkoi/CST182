{
  "nbformat": 4,
  "nbformat_minor": 0,
  "metadata": {
    "colab": {
      "provenance": [],
      "include_colab_link": true
    },
    "kernelspec": {
      "name": "python3",
      "display_name": "Python 3"
    },
    "language_info": {
      "name": "python"
    }
  },
  "cells": [
    {
      "cell_type": "markdown",
      "metadata": {
        "id": "view-in-github",
        "colab_type": "text"
      },
      "source": [
        "<a href=\"https://colab.research.google.com/github/r3dkoi/CST182/blob/main/Lab_02_Conditionals.ipynb\" target=\"_parent\"><img src=\"https://colab.research.google.com/assets/colab-badge.svg\" alt=\"Open In Colab\"/></a>"
      ]
    },
    {
      "cell_type": "markdown",
      "source": [
        "# **LAB #02** - CONDITIONALS\n",
        "<br/>\n"
      ],
      "metadata": {
        "id": "qdM8hjkwAnQ5"
      }
    },
    {
      "cell_type": "markdown",
      "source": [
        "><table>\n",
        "##**Lab Overview**\n",
        "\n",
        "These lab questions will help develop your understanding of conditional statements and some of the applications where conditionals are used.  \n",
        "></table>\n",
        "\n",
        "<br/><br/>\n",
        "\n"
      ],
      "metadata": {
        "id": "ax351qT1A2wO"
      }
    },
    {
      "cell_type": "markdown",
      "source": [
        "# **Question #1** - Sort three numbers\n",
        "---\n",
        "<br/>\n",
        "\n",
        "Write a program that asks for three numbers from the user, and prints out the three numbers in ascending order.  <br/><br/>\n",
        "\n",
        "\n",
        "**<u>Example Run:</u>**<br/>\n",
        "Number #1? **9**<br/>\n",
        "Number #1? **3**<br/>\n",
        "Number #1? **5**<br/>\n",
        "Result = 3 5 9<br/>\n",
        "<br/>\n",
        ">**Note:** *You cannot use the `max()` or `min()` functions*\n"
      ],
      "metadata": {
        "id": "f1kwJQuoLhE4"
      }
    },
    {
      "cell_type": "markdown",
      "source": [
        "### Your Answer:"
      ],
      "metadata": {
        "id": "jxaY-33JMb77"
      }
    },
    {
      "cell_type": "code",
      "source": [
        "# Student Name: Kyla Sofocado\n",
        "# Student Number: 1034672\n",
        "\n",
        "# Add answer below this line\n",
        "#Ask user for number 1\n",
        "user_number_one = int(input(\"Please give me the first number.\"))\n",
        "print(f\"Number 1: {user_number_one}\")\n",
        "\n",
        "#Ask user number 2\n",
        "user_number_two = int(input(\"Please give me the second number.\"))\n",
        "print(f\"Number 2: {user_number_two}\")\n",
        "\n",
        "#Ask user number 3\n",
        "user_number_three = int(input(\"Please give me the first number.\"))\n",
        "print(f\"Number 3: {user_number_three}\")\n",
        "\n",
        "#Printing the result in ascending order\n",
        "all_numbers = [user_number_one, user_number_two, user_number_three]\n",
        "all_numbers.sort()\n",
        "print(all_numbers)"
      ],
      "metadata": {
        "id": "Wc7e2wC5McY0",
        "outputId": "6380f6e1-2384-4b38-b99a-ed41fa4a8a26",
        "colab": {
          "base_uri": "https://localhost:8080/",
          "height": 0
        }
      },
      "execution_count": 4,
      "outputs": [
        {
          "output_type": "stream",
          "name": "stdout",
          "text": [
            "Please give me the first number.25\n",
            "Number 1: 25\n",
            "Please give me the second number.50\n",
            "Number 2: 50\n",
            "Please give me the first number.1\n",
            "Number 3: 1\n",
            "[1, 25, 50]\n"
          ]
        }
      ]
    },
    {
      "cell_type": "markdown",
      "source": [
        "<Br/><br/>\n"
      ],
      "metadata": {
        "id": "McmLtW4vMjKn"
      }
    },
    {
      "cell_type": "markdown",
      "source": [
        "# **Question #2** - BMI Calculator + Range\n",
        "---\n",
        "\n",
        "<br/>\n",
        "\n",
        "We will take the BMI question from Tutorial #1 and extend its functionality.<br/><br/>\n",
        "\n",
        "> <table><tr><td>\n",
        "\n",
        "<b>Old Tutorial 1 Question</b><Br/><br/>\n",
        "\n",
        "Create a program that calculates a user's BMI. To do this, you will need to take in the users:\n",
        "\n",
        "1.   name\n",
        "2.   height (in meters; e.g., 1.8)\n",
        "3.   weight (in kg; e.g., 60)\n",
        "\n",
        "and then insert the values into the equation: $BMI = \\frac{weight}{height^2}$\n",
        "<br/>\n",
        "<br/>\n",
        "(Note: You can square the height by either multiplying by itself, or using `height**2`)\n",
        "<br/><br/>\n",
        "\n",
        "The output is expected to be similar to:\n",
        "\n",
        "`Hi Luke, your BMI is 23.0`\n",
        "\n",
        "></td></tr></table>\n",
        "\n",
        "<br/><br/>\n",
        "\n",
        "Your job is to update this program so it also shows the range that the calculated BMI falls within. <br/><br/>\n",
        "\n",
        "\n",
        "**<u>Example Run:</u>**<br/>\n",
        "Weight? **180**<br/>\n",
        "Height? **80**<br/>\n",
        "BMI = 24.7<br/>\n",
        "The given BMI is classified as: Healthy<br/>\n",
        "\n",
        ">**Note:** *The ranges haven't been given to you - you need to do a bit of research and add a reference to the site you used in the program comments.*\n",
        "\n",
        "\n",
        "<br/>\n"
      ],
      "metadata": {
        "id": "9ML3CMJVBxuF"
      }
    },
    {
      "cell_type": "markdown",
      "source": [
        "### Your Answer:"
      ],
      "metadata": {
        "id": "gPCRbhBxGMN0"
      }
    },
    {
      "cell_type": "code",
      "execution_count": 8,
      "metadata": {
        "id": "LuZZ6MqZAkbS",
        "outputId": "66a27cdd-78c0-40ed-d899-0d62bd26720a",
        "colab": {
          "base_uri": "https://localhost:8080/",
          "height": 0
        }
      },
      "outputs": [
        {
          "output_type": "stream",
          "name": "stdout",
          "text": [
            "Height (m)? 1.5\n",
            "Weight (kg)? 55\n",
            "BMI = 24.4\n",
            "The given BMI is classified as: Healthy\n"
          ]
        }
      ],
      "source": [
        "# Student Name: Kyla Sofocado\n",
        "# Student Number: 1034672\n",
        "# BMI Ranges Reference URL: https://www.health.gov.au/topics/overweight-and-obesity/bmi-and-waist\n",
        "\n",
        "# Add answer below this line\n",
        "#Getting the height in metres\n",
        "height_in_metres = float(input(\"Height (m)? \"))\n",
        "\n",
        "#Getting the weight in kgs\n",
        "weight_in_kilograms = int(input(\"Weight (kg)? \"))\n",
        "\n",
        "#BMI calculation\n",
        "BMI_formula = weight_in_kilograms/(height_in_metres**2)\n",
        "BMI_rounded_formula = round(BMI_formula, 1)\n",
        "BMI = print(\"BMI =\", BMI_rounded_formula)\n",
        "\n",
        "#BMI range health output\n",
        "if BMI_formula >= 18.5 and BMI_formula <= 24.9:\n",
        "    print(\"The given BMI is classified as: Healthy\")\n",
        "elif BMI_formula >= 25 and BMI_formula <= 29.9:\n",
        "    print(\"The given BMI is classified as: Overweight but not obese.\")\n",
        "elif BMI_formula >= 30 and BMI_formula <= 34.9:\n",
        "    print(\"The given BMI is classified as: Obese class I\")\n",
        "elif BMI_formula >= 35 and BMI_formula <= 39.9:\n",
        "    print(\"The given BMI is classified as: Obese class II\")\n",
        "elif BMI_formula > 40:\n",
        "    print(\"The given BMI is classified as: Obese class III\")\n",
        "else:\n",
        "    print(\"The given BMI is classified as: Underweight\")\n",
        "\n",
        "\n"
      ]
    },
    {
      "cell_type": "markdown",
      "source": [
        "<br/><br/>\n"
      ],
      "metadata": {
        "id": "gPpEwbJeD_qb"
      }
    },
    {
      "cell_type": "markdown",
      "source": [
        "# **Question #3** - Movie tickets\n",
        "---\n",
        "\n",
        "Create a program that calculates the cost of a ticket at the movies. The program asks the person's age. If they are under 18, they get a child's ticket at \\$10.00, and adults pay \\$20.00. However, if a person is over 65, they are asked if they have a concession card, and if so, then receive a \\$15.00 ticket. <br/><br/>\n",
        "\n",
        "**<u>Example Run #1:</u>**<br/>\n",
        "Age? **15**<br/>\n",
        "Ticket = $10.00<br/><br/>\n",
        "\n",
        "**<u>Example Run #2:</u>**<br/>\n",
        "Age? **30**<br/>\n",
        "Ticket = $20.00<br/><br/>\n",
        "\n",
        "**<u>Example Run #3:</u>**<br/>\n",
        "Age? **70**<br/>\n",
        "Concession Card? **Yes**<br/>\n",
        "Ticket = $15.00<br/><br/>\n",
        "\n",
        "**<u>Example Run #4:</u>**<br/>\n",
        "Age? **70**<br/>\n",
        "Concession Card? **No**<br/>\n",
        "Ticket = $20.00<br/><br/>"
      ],
      "metadata": {
        "id": "gJ5eqV6jEA9g"
      }
    },
    {
      "cell_type": "markdown",
      "source": [
        "### Your Answer:"
      ],
      "metadata": {
        "id": "k1Og8sTGGIGP"
      }
    },
    {
      "cell_type": "code",
      "source": [
        "# Student Name: Kyla Sofocado\n",
        "# Student Number: 1034672\n",
        "\n",
        "# Add answer below this line\n",
        "person_age = int(input(\"How old are you? \"))\n",
        "\n",
        "#Ticket prices\n",
        "child_ticket = 10.00\n",
        "adult_ticket = 20.00\n",
        "concession_ticket = 15.00\n",
        "elderly_ticket = 20.00\n",
        "\n",
        "#Ticket costs via age-ranges\n",
        "if person_age <= 18:\n",
        "    print(f\"You get a children's ticket. The total is: {child_ticket}.\")\n",
        "elif person_age >= 18 and person_age <= 65:\n",
        "    print(f\"You get a adult ticket. The total is: {adult_ticket}.\")\n",
        "else:\n",
        "    concession_card = str(input(\"Do you have a Concession Card? \"))\n",
        "    #Response to concession card input is case-insensitive\n",
        "    if concession_card.lower() == \"yes\":\n",
        "        print(f\"Here is your ticket, the total is: {concession_ticket}.\")\n",
        "    else:\n",
        "        print(f\"Here is your ticket, the total is: {elderly_ticket}.\")\n",
        "\n"
      ],
      "metadata": {
        "id": "z4XLivudFpaW",
        "colab": {
          "base_uri": "https://localhost:8080/",
          "height": 0
        },
        "outputId": "65940b5b-0d7c-4d85-c3df-32206ec2d7e6"
      },
      "execution_count": 10,
      "outputs": [
        {
          "output_type": "stream",
          "name": "stdout",
          "text": [
            "How old are you? 100\n",
            "Do you have a Concession Card? nope\n",
            "Here is your ticket, the total is: 20.0.\n"
          ]
        }
      ]
    },
    {
      "cell_type": "markdown",
      "source": [
        "<br/><br/>"
      ],
      "metadata": {
        "id": "yNYlz8tFGt0U"
      }
    },
    {
      "cell_type": "markdown",
      "source": [
        "# **Submission**\n",
        "---\n",
        "\n",
        "When you believe you have the program correctly working, please run the program and enter valid details for each program so that the output is apparent.\n",
        "<br/><br/>\n",
        "When you are ready to submit please\n",
        "\n",
        "*   go to `File` -> `Print` -> `Print PDF` and then upload and submit in the LMS.\n",
        "*   save your file to GitHub via: `File` -> `Save a copy in GitHub`\n"
      ],
      "metadata": {
        "id": "CxZ8SilaD9Gq"
      }
    }
  ]
}