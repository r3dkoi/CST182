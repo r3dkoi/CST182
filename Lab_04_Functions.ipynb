{
  "nbformat": 4,
  "nbformat_minor": 0,
  "metadata": {
    "colab": {
      "provenance": [],
      "include_colab_link": true
    },
    "kernelspec": {
      "name": "python3",
      "display_name": "Python 3"
    },
    "language_info": {
      "name": "python"
    }
  },
  "cells": [
    {
      "cell_type": "markdown",
      "metadata": {
        "id": "view-in-github",
        "colab_type": "text"
      },
      "source": [
        "<a href=\"https://colab.research.google.com/github/r3dkoi/CST182/blob/main/Lab_04_Functions.ipynb\" target=\"_parent\"><img src=\"https://colab.research.google.com/assets/colab-badge.svg\" alt=\"Open In Colab\"/></a>"
      ]
    },
    {
      "cell_type": "markdown",
      "source": [
        "# **LAB #04** - Functions\n",
        "<br/>\n"
      ],
      "metadata": {
        "id": "qdM8hjkwAnQ5"
      }
    },
    {
      "cell_type": "markdown",
      "source": [
        "><table>\n",
        "##**Lab Overview**\n",
        "\n",
        "These lab questions will help develop your understanding of how functions work and some of the applications where functions can be used to improve a program.\n",
        "></table>\n",
        "\n",
        "<br/>\n",
        "\n"
      ],
      "metadata": {
        "id": "ax351qT1A2wO"
      }
    },
    {
      "cell_type": "markdown",
      "source": [
        "\n",
        "\n",
        "# **Question #1** - Fun with Functions\n",
        "---\n",
        "<br/>\n",
        "\n",
        "In this question, you're going to use Franklin the Turtle to write the first letter of your name as it appears in:\n",
        "\n",
        "#`ABCDEFGHIJKLMNOPQRSTUVWXYZ`\n",
        "\n",
        "<br/>\n",
        "\n",
        "This is meant to be a fun exercise that gets you some quick experience with making function calls and passing values - therefore, this is not meant to be a work of art :) <br/><br/>\n",
        "\n",
        "\n",
        "It also shows the ease of programming when using modularisation (as all the underlying code is encapsulated in the function itself - and all you need to worry about is making the correct calls with the correct data). <Br/></br>\n",
        "\n",
        "The code window has some of the basic functions with a quick description of each in an inline comment. For more information see: https://larryriddle.agnesscott.org/ColabTurtlePlus/documentation2.html\n",
        "\n",
        "\n",
        "<br/><br/>\n",
        "\n",
        "><table>\n",
        "\n",
        "### **Bonus task** [ Optional ]\n",
        "---\n",
        "Try and create the letter with the outline such as the following:<br/> ![image.png](data:image/png;base64,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)\n",
        "\n",
        "Also, feel free to add in any additional characters or creations if you want to extend yourself.\n",
        "\n",
        "></table>\n",
        "\n",
        "\n",
        "<br/>\n",
        "\n"
      ],
      "metadata": {
        "id": "Ul0eUARrsGff"
      }
    },
    {
      "cell_type": "markdown",
      "source": [
        "\n",
        "### **Note**: Installing Packages\n",
        "---\n",
        "Later in the course we will look at packages in more detail, but for now it is enough to know the basics:\n",
        "\n",
        "\n",
        "*   Packages extend functionality\n",
        "*   You only need to install packages once\n",
        "*   We use the command !pip to install our packages in Colab\n",
        "\n",
        "Therefore, run the code in the next code window and see how a package is installed into the notebook<br>"
      ],
      "metadata": {
        "id": "jYiy8MKcYAXn"
      }
    },
    {
      "cell_type": "code",
      "source": [
        "!pip3 install ColabTurtlePlus"
      ],
      "metadata": {
        "id": "U2S2DrafooGu",
        "outputId": "9ce4444d-8df3-4f32-e2ad-549d903a89cb",
        "colab": {
          "base_uri": "https://localhost:8080/"
        }
      },
      "execution_count": 30,
      "outputs": [
        {
          "output_type": "stream",
          "name": "stdout",
          "text": [
            "Requirement already satisfied: ColabTurtlePlus in /usr/local/lib/python3.11/dist-packages (2.0.1)\n"
          ]
        }
      ]
    },
    {
      "cell_type": "markdown",
      "source": [
        "<br/>"
      ],
      "metadata": {
        "id": "mZ49Zy8DukU7"
      }
    },
    {
      "cell_type": "markdown",
      "source": [
        "### **Your Answer**"
      ],
      "metadata": {
        "id": "sedot7JUuhD2"
      }
    },
    {
      "cell_type": "code",
      "source": [
        "# Student Name: Kyla Sofocado\n",
        "# Student Number: 1034672\n",
        "\n",
        "import ColabTurtlePlus.Turtle as t\n",
        "import random\n",
        "\n",
        "# SETUP\n",
        "t.initializeTurtle()\n",
        "t.setup(400,400)    # The size of the window (x [width], y [height])\n",
        "\n",
        "t.speed(5)          # The speed of Franklin the Turtle\n",
        "\n",
        "t.bgcolor(\"white\")  # Change the background colour of the page\n",
        "t.color(\"orange\")     # Change the colour of the pen\n",
        "t.width(5)          # Change the width of the pen\n",
        "\n",
        "\n",
        "\n",
        "# MOVEMENT - Feel free to delete the following - just for reference\n",
        "\"\"\" t.forward(100) # Moves 100 spaces foward\n",
        "t.left(90)     # Turns left 90 degrees\n",
        "t.penup()      # Removes the 'pen' from the page to stop drawing\n",
        "t.forward(100)\n",
        "t.right(45)    # Turns right 45 degrees\n",
        "t.pendown()    # Places the 'pen' on the page to start drawing\n",
        "t.forward(100) \"\"\"\n",
        "\n",
        "#Easier shortcut for me to rotate turtle direction\n",
        "\n",
        "#Basic K\n",
        "t.left(90)\n",
        "t.forward(100)\n",
        "t.backward(55)\n",
        "t.right(45)\n",
        "t.forward(57)\n",
        "t.backward(55)\n",
        "t.right(90)\n",
        "t.forward(55)\n",
        "t.clear()\n",
        "\n",
        "\n",
        "#Outline K\n",
        "t.jumpto(-100,-50)\n",
        "t.left(90.5)\n",
        "t.forward(200)\n",
        "t.right(90)\n",
        "t.forward(50)\n",
        "t.right(90)\n",
        "t.forward(100)\n",
        "t.left(145)\n",
        "t.forward(105)\n",
        "t.right(75)\n",
        "t.forward(50)\n",
        "t.right(110)\n",
        "t.forward(105)\n",
        "t.left(85)\n",
        "t.forward(115)\n",
        "t.right(135)\n",
        "t.forward(50)\n",
        "t.right(45)\n",
        "t.forward(100)\n",
        "t.left(135)\n",
        "t.forward(80)\n",
        "t.right(95)\n",
        "t.forward(50)\n",
        "\n",
        "\n",
        "\n"
      ],
      "metadata": {
        "id": "9PP7YGX7odq2",
        "colab": {
          "base_uri": "https://localhost:8080/",
          "height": 421
        },
        "outputId": "6a9b6c31-bf00-4cf1-b499-8e0dc4f8e473"
      },
      "execution_count": 196,
      "outputs": [
        {
          "output_type": "display_data",
          "data": {
            "text/plain": [
              "<IPython.core.display.HTML object>"
            ],
            "text/html": [
              "\n",
              "      <svg width=\"400\" height=\"400\">  \n",
              "        <rect width=\"100%\" height=\"100%\" style=\"fill:white;stroke:;stroke-width:1\"/>\n",
              "        \n",
              "        \n",
              "        <line x1=\"100.0\" y1=\"250.0\" x2=\"240.182\" y2=\"107.35\" stroke-linecap=\"round\" style=\"stroke:orange;stroke-width:5\" /><line x1=\"240.182\" y1=\"107.35\" x2=\"275.845\" y2=\"142.395\" stroke-linecap=\"round\" style=\"stroke:orange;stroke-width:5\" /><line x1=\"275.845\" y1=\"142.395\" x2=\"205.754\" y2=\"213.72\" stroke-linecap=\"round\" style=\"stroke:orange;stroke-width:5\" /><line x1=\"205.754\" y1=\"213.72\" x2=\"308.996\" y2=\"194.585\" stroke-linecap=\"round\" style=\"stroke:orange;stroke-width:5\" /><line x1=\"308.996\" y1=\"194.585\" x2=\"330.522\" y2=\"239.714\" stroke-linecap=\"round\" style=\"stroke:orange;stroke-width:5\" /><line x1=\"330.522\" y1=\"239.714\" x2=\"226.005\" y2=\"249.778\" stroke-linecap=\"round\" style=\"stroke:orange;stroke-width:5\" /><line x1=\"226.005\" y1=\"249.778\" x2=\"227.009\" y2=\"364.774\" stroke-linecap=\"round\" style=\"stroke:orange;stroke-width:5\" /><line x1=\"227.009\" y1=\"364.774\" x2=\"191.346\" y2=\"329.729\" stroke-linecap=\"round\" style=\"stroke:orange;stroke-width:5\" /><line x1=\"191.346\" y1=\"329.729\" x2=\"190.473\" y2=\"229.733\" stroke-linecap=\"round\" style=\"stroke:orange;stroke-width:5\" /><line x1=\"190.473\" y1=\"229.733\" x2=\"134.4\" y2=\"286.793\" stroke-linecap=\"round\" style=\"stroke:orange;stroke-width:5\" /><line x1=\"134.4\" y1=\"286.793\" x2=\"101.928\" y2=\"248.773\" stroke-linecap=\"round\" style=\"stroke:orange;stroke-width:5\" />\n",
              "        \n",
              "        \n",
              "        <g id=\"classic\" visibility=\"visible\" transform=\"rotate(139.5,101.928,248.773) translate(101.928, 248.773)\">\n",
              "<polygon points=\"-5,-4.5 0,-2.5 5,-4.5 0,4.5\" transform=\"skewX(0) scale(1,1)\" style=\"stroke:orange;fill:orange;stroke-width:1\" />\n",
              "</g>\n",
              "      </svg>\n",
              "    "
            ]
          },
          "metadata": {}
        }
      ]
    },
    {
      "cell_type": "markdown",
      "source": [
        "<Br/><br/>"
      ],
      "metadata": {
        "id": "QFxRj-X-yFdh"
      }
    },
    {
      "cell_type": "markdown",
      "source": [
        "# **Question #2** - Create the Function\n",
        "---\n",
        "<br/>\n",
        "\n",
        "The following program is to display the gravity for a planet with the data provided to the function.\n",
        "\n",
        "Your task is to write the function that makes use of the current call and constants provided.\n",
        "\n",
        "<br/>\n",
        "\n",
        "The equation for calculating the gravity is $g = G*M/R^2$\n",
        "\n",
        "<br/>\n",
        "\n",
        "Once you get the function working, you need to add at least two further records.\n",
        "\n",
        "<br/>\n",
        "\n",
        "You can use the following data for\n",
        "https://nssdc.gsfc.nasa.gov/planetary/factsheet/"
      ],
      "metadata": {
        "id": "Aqy8BPnT1qqD"
      }
    },
    {
      "cell_type": "code",
      "source": [
        "# Student Name: Kyla Sofocado\n",
        "# Student Number: 1034672\n",
        "\n",
        "\n",
        "# CONSTANTS\n",
        "\n",
        "G = 6.67E-11\n",
        "MASS_MULTIPLE = 10**24\n",
        "DIAMETER_MULTIPLE = 1000 #Converting it into metres\n",
        "\n",
        "\n",
        "# METHODS - TODO: Add your method here\n",
        "def calcGrav(mass, diameter):\n",
        "  planet_radius = diameter * DIAMETER_MULTIPLE / 2\n",
        "  planet_gravity = round(G * (mass * MASS_MULTIPLE) / planet_radius**2,1)\n",
        "  return planet_gravity\n",
        "\n",
        "\n",
        "# PROGRAM\n",
        "\n",
        "print(\"Earth's gravity is:\", calcGrav(5.972, 12756))\n",
        "print(\"Venus's gravity is:\", calcGrav(4.87, 12104))\n",
        "print(\"Pluto's gravity is:\", calcGrav(0.0130, 2376))\n",
        "# TODO: Add data for at least two more calls to the function (can use data from given link or elsewhere if referenced (e.g., Sun's values))\n",
        "\n"
      ],
      "metadata": {
        "id": "eR1ii6Ev1twI",
        "outputId": "35aa508b-68e6-4e8f-b309-05b231016813",
        "colab": {
          "base_uri": "https://localhost:8080/"
        }
      },
      "execution_count": 163,
      "outputs": [
        {
          "output_type": "stream",
          "name": "stdout",
          "text": [
            "Earth's gravity is: 9.8\n",
            "Venus's gravity is: 8.9\n",
            "Pluto's gravity is: 0.6\n"
          ]
        }
      ]
    },
    {
      "cell_type": "markdown",
      "source": [
        "<br/><br/>"
      ],
      "metadata": {
        "id": "5htu_sxD1uJe"
      }
    },
    {
      "cell_type": "markdown",
      "source": [
        "# **Question #3** - Modularise the program\n",
        "---\n",
        "<br/>\n",
        "\n",
        "In this question, you're given a working program and your job is to update the program to remove the redundant code by starting to modularise the program. Start by simply running the program and trying different inputs to see how it works.<br/><br/>\n",
        "\n",
        "As you may notice, the code has a variety of inputs with each being validated to ensure the program is robust.<br/><br/>\n",
        "\n",
        "The main task here is to start to remove some of the redundant code by moving (at minimum) the input validation for another flip to a function - and then calling that function at the two points in the code (Note: The two times that this code is used is shown via comments) <Br/></br>\n",
        "\n",
        "><table>\n",
        "\n",
        "### Bonus task\n",
        "---\n",
        "Can you see a way to further improve the efficiency of this program? (think about making functions general enough that you can use them for a variety of similar tasks.\n",
        "></table>\n",
        "\n",
        "\n",
        "<br/>\n"
      ],
      "metadata": {
        "id": "f1kwJQuoLhE4"
      }
    },
    {
      "cell_type": "markdown",
      "source": [
        "### Your Answer:"
      ],
      "metadata": {
        "id": "jxaY-33JMb77"
      }
    },
    {
      "cell_type": "code",
      "source": [
        "# Student Name: Kyla Sofocado\n",
        "# Student Number: 1034672\n",
        "\n",
        "#This is to test my knowledge of Call Stacking\n",
        "\n",
        "import random\n",
        "\n",
        "balance = 100\n",
        "\n",
        "#Flipping function\n",
        "def flip_coin():\n",
        "  global balance #Declares balance as global so it can be modified\n",
        "  toss = random.randint(0,1)\n",
        "  print(\"Heads!\" if toss == 0 else \"Tails!\")\n",
        "\n",
        "  if toss == 0 and choice == \"h\" or toss == 1 and choice == 't':\n",
        "    balance += bet\n",
        "    print(\"Win! New balance = \", balance)\n",
        "  else:\n",
        "    balance -= bet\n",
        "    print(\"Lose! New balance = \", balance)\n",
        "\n",
        "#Choosing between Heads or Tails function\n",
        "def h_or_t():\n",
        "    choice = input(\"[H]eads or [t]ails? \")\n",
        "    while choice.lower() != \"h\" and choice.lower() != \"t\":\n",
        "        print(\"Invalid input. Only H or T accepted.\")\n",
        "        choice = input(\"[H]eads or [t]ails? \")\n",
        "    if choice.lower() == \"h\":\n",
        "        flip_coin()\n",
        "    elif choice.lower() == \"t\":\n",
        "        flip_coin()\n",
        "\n",
        "#Betting function\n",
        "def bets():\n",
        "    bet = int(input(\"How much would you like to bet? \"))\n",
        "    if bet < 1 or bet > balance:\n",
        "      print(\"Sorry, you can only bet from 1 to your balance of \", balance)\n",
        "    else:\n",
        "        h_or_t()\n",
        "\n",
        "#Input and validation function\n",
        "def gamba():\n",
        "  again = input(\"Would you like to flip the coin (Y/N)? \")\n",
        "  while again.lower() != \"y\" and again.lower() != \"n\":\n",
        "    print(\"Invalid input. Only Y or N accepted.\")\n",
        "    again = input(\"Would you like to flip the coin (Y/N)? \") #Prompts the user until user inputs the write string (Y/N)\n",
        "  if again.lower() == \"y\":\n",
        "    bets()\n",
        "\n",
        "gamba() #Begins the program\n"
      ],
      "metadata": {
        "id": "Wc7e2wC5McY0",
        "outputId": "5bdcd0fe-ca16-4f9c-f209-ca5721d5e11a",
        "colab": {
          "base_uri": "https://localhost:8080/"
        }
      },
      "execution_count": 195,
      "outputs": [
        {
          "output_type": "stream",
          "name": "stdout",
          "text": [
            "Would you like to flip the coin (Y/N)? y\n",
            "How much would you like to bet? 20\n",
            "[H]eads or [t]ails? h\n",
            "Tails!\n",
            "Win! New balance =  110\n"
          ]
        }
      ]
    },
    {
      "cell_type": "markdown",
      "source": [
        "<Br/><br/>\n"
      ],
      "metadata": {
        "id": "McmLtW4vMjKn"
      }
    },
    {
      "cell_type": "markdown",
      "source": [
        "# **Submission**\n",
        "---\n",
        "\n",
        "When you believe you have the program correctly working, please run the program and enter valid details for each program so that the output is apparent.\n",
        "<br/><br/>\n",
        "When you are ready to submit please\n",
        "\n",
        "*   go to `File` -> `Print` -> `Print PDF` and then upload and submit in the LMS.\n",
        "  *   feel free to also submit your artwork from question 1 to the LMS if you'd like to\n",
        "\n",
        "*   save your file to GitHub via: `File` -> `Save a copy in GitHub`\n"
      ],
      "metadata": {
        "id": "CxZ8SilaD9Gq"
      }
    }
  ]
}